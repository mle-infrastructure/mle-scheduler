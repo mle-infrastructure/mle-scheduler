{
 "cells": [
  {
   "attachments": {},
   "cell_type": "markdown",
   "id": "08f9d077-64ed-4dc3-b772-498569e96d2b",
   "metadata": {
    "tags": []
   },
   "source": [
    "# `mle-scheduler`: Lightweight Cluster/Cloud Job Management 🚀\n",
    "### Author: [@RobertTLange](https://twitter.com/RobertTLange) [Last Update: March 2023][![Colab](https://colab.research.google.com/assets/colab-badge.svg)](https://colab.research.google.com/github/mle-infrastructure/mle-scheduler/blob/main/examples/getting_started.ipynb)\n",
    "\n",
    "\"How does one specify the amount of required CPU cores and GPU type again?\" I really dislike having to write cluster job submission files. It is tedious, I always forget something and copying old templates feels cumbersome. The classic boilerplate code problem. What if instead there was a tool that would completely get rid of this manual work? **A tool that schedules jobs on different cluster/cloud resources** with minimal and intuitive job/resource description requirements?  The `mle-scheduler` package provides such a service for [Slurm](https://slurm.schedmd.com/), [Open Grid Engine](http://gridscheduler.sourceforge.net/documentation.html) cluster schedulers & [Google Cloud Platform VMs](https://cloud.google.com/gcp/). But you can also use the scheduling utilities to launch multiple training runs on a local machine or a set of SSH servers. This includes running the same configuration on multiple random seeds and/or training multiple configuration runs simultaneously. It comes with two core functional pillars:\n",
    "\n",
    "- **`MLEJob`**: Launches and monitors a single job on a resource (Slurm, Open Grid Engine, GCP, SSH, etc.).\n",
    "- **`MLEQueue`**: Launches and monitors a queue of jobs with different training configurations and/or random seeds.\n",
    "\n",
    "In the remainder of this walkthrough we will first introduce the general logic locally and afterwards go through how to launch and monitor jobs on the different clusters, SSH servers and GCP VMs. Importantly, the `mle-scheduler` is part of the broader [`mle-infrastructure`](https://github.com/mle-infrastructure) and comes with a set of handy built-in synergies. We will wrap-up by highlighting some of these.\n",
    "\n",
    "<a href=\"https://github.com/mle-infrastructure/mle-scheduler/blob/main/docs/mle_scheduler_structure.png?raw=true\"><img src=\"https://github.com/mle-infrastructure/mle-scheduler/blob/main/docs/mle_scheduler_structure.png?raw=true\" width=\"850\" align=\"center\" /></a>"
   ]
  },
  {
   "cell_type": "code",
   "execution_count": 1,
   "id": "b1ff5d35-b29e-4386-b423-9c83ad1ae169",
   "metadata": {},
   "outputs": [],
   "source": [
    "%load_ext autoreload\n",
    "%autoreload 2\n",
    "%config InlineBackend.figure_format = 'retina'\n",
    "\n",
    "try:\n",
    "    import mle_scheduler\n",
    "except:\n",
    "    !pip install -q mle-scheduler mle-logging\n",
    "!pip install -q -U PyYAML\n",
    "import os, logging"
   ]
  },
  {
   "cell_type": "markdown",
   "id": "c93d0799-a069-48ad-a8c7-0f06f5a239c6",
   "metadata": {},
   "source": [
    "Let's start by setting up a simple training script. In the code snippet below we \"pseudo\"-train a network for 10 epochs and log the training run statistics using [`mle-logging`](https://github.com/mle-infrastructure/mle-logging). I use it on a daily basis and throughout my experiments - but you can plug-in whatever logging setup you prefer. We store the code in a `train.py` file. Our execution script takes three command line arguments that are being parsed at the start-up: `experiment_dir` (the main log directory), `config_fname` (the configuration file to be loaded), `seed_id` (the random number seed for reproduction). The black-box training loop then runs for some epochs and continuously logs some data to our logger."
   ]
  },
  {
   "cell_type": "markdown",
   "id": "04cfa9ca-559b-487e-880e-de865279b353",
   "metadata": {},
   "source": [
    "```python\n",
    "from mle_logging import MLELogger\n",
    "from mle_logging.utils import load_yaml_config\n",
    "\n",
    "\n",
    "def main(experiment_dir: str, config_fname: str, seed_id: int):\n",
    "    \"\"\"Example training 'loop' using MLE-Logging.\"\"\"\n",
    "    # Load experiment configuration & setup logging to experiment_dir\n",
    "    train_config = load_yaml_config(config_fname)\n",
    "    log = MLELogger(\n",
    "        experiment_dir=experiment_dir,\n",
    "        config_fname=config_fname,\n",
    "        seed_id=seed_id,\n",
    "        time_to_track=[\"num_epochs\"],\n",
    "        what_to_track=[\"train_loss\", \"test_loss\"],\n",
    "    )\n",
    "    # 'Run' the pseudo training loop and feed the logger\n",
    "    for epoch in range(1, 11):\n",
    "        train_loss, test_loss = train_your_net(epoch, seed_id, **train_config)\n",
    "        log.update(\n",
    "            {\"num_epochs\": epoch},\n",
    "            {\"train_loss\": train_loss, \"test_loss\": test_loss},\n",
    "            save=True,\n",
    "        )\n",
    "        \n",
    "\n",
    "if __name__ == \"__main__\":\n",
    "    parser = argparse.ArgumentParser(description=\"Let's train a network.\")\n",
    "    parser.add_argument(\"-exp_dir\", \"--experiment_dir\", type=str)\n",
    "    parser.add_argument(\"-config\", \"--config_fname\", type=str)\n",
    "    parser.add_argument(\"-seed\", \"--seed_id\", type=int, default=1)\n",
    "    args = vars(parser.parse_args())\n",
    "    main(args[\"experiment_dir\"], args[\"config_fname\"], args[\"seed_id\"])\n",
    "```"
   ]
  },
  {
   "cell_type": "code",
   "execution_count": 2,
   "id": "2d2d3c89-e014-48c5-9851-5b039a657214",
   "metadata": {},
   "outputs": [],
   "source": [
    "# Check if code is run in Colab: If so -- download configs from repo\n",
    "try:\n",
    "    import google.colab\n",
    "    IN_COLAB = True\n",
    "    !wget -q https://raw.githubusercontent.com/mle-infrastructure/mle-scheduler/main/examples/train.py\n",
    "    !wget -q https://raw.githubusercontent.com/mle-infrastructure/mle-scheduler/main/examples/base_config_1.yaml\n",
    "    !wget -q https://raw.githubusercontent.com/mle-infrastructure/mle-scheduler/main/examples/base_config_2.yaml\n",
    "    !wget -q https://raw.githubusercontent.com/mle-infrastructure/mle-scheduler/main/examples/requirements.txt\n",
    "except:\n",
    "    IN_COLAB = False"
   ]
  },
  {
   "cell_type": "markdown",
   "id": "255b0522-6c4b-440d-8dca-345ba9e8a461",
   "metadata": {},
   "source": [
    "# Single Job Management with `MLEJob` 🚀\n",
    "\n",
    "So now that we have defined our training script how shall we launch it? The most natural thing to do would be to execute the python script with command line input via:\n",
    "\n",
    "```\n",
    "python train.py -config base_config_1.yaml -exp_dir logs_single -seed_id 1\n",
    "```\n",
    "\n",
    "The same can be achieved programmatically using an instance of `MLEJob`. In the cell below you can see how to spawn a process which executes the same python command and continuously monitors it until the job is completed:"
   ]
  },
  {
   "cell_type": "code",
   "execution_count": 3,
   "id": "44a221b5-758b-491b-b206-65c3bddeeddb",
   "metadata": {},
   "outputs": [
    {
     "data": {
      "text/html": [
       "<pre style=\"white-space:pre;overflow-x:auto;line-height:normal;font-family:Menlo,'DejaVu Sans Mono',consolas,'Courier New',monospace\"><span style=\"color: #7fbfbf; text-decoration-color: #7fbfbf\">[14:05:17] </span><span style=\"color: #000080; text-decoration-color: #000080\">INFO    </span> PID: <span style=\"color: #008080; text-decoration-color: #008080; font-weight: bold\">49597</span> - Local job scheduled - base_config_1.yaml          <a href=\"file:///Users/rob/anaconda3/envs/mle-toolbox/lib/python3.9/site-packages/mle_scheduler/job.py\"><span style=\"color: #7f7f7f; text-decoration-color: #7f7f7f\">job.py</span></a><span style=\"color: #7f7f7f; text-decoration-color: #7f7f7f\">:</span><a href=\"file:///Users/rob/anaconda3/envs/mle-toolbox/lib/python3.9/site-packages/mle_scheduler/job.py#155\"><span style=\"color: #7f7f7f; text-decoration-color: #7f7f7f\">155</span></a>\n",
       "</pre>\n"
      ],
      "text/plain": [
       "\u001b[2;36m[14:05:17]\u001b[0m\u001b[2;36m \u001b[0m\u001b[34mINFO    \u001b[0m PID: \u001b[1;36m49597\u001b[0m - Local job scheduled - base_config_1.yaml          \u001b]8;id=778719;file:///Users/rob/anaconda3/envs/mle-toolbox/lib/python3.9/site-packages/mle_scheduler/job.py\u001b\\\u001b[2mjob.py\u001b[0m\u001b]8;;\u001b\\\u001b[2m:\u001b[0m\u001b]8;id=631521;file:///Users/rob/anaconda3/envs/mle-toolbox/lib/python3.9/site-packages/mle_scheduler/job.py#155\u001b\\\u001b[2m155\u001b[0m\u001b]8;;\u001b\\\n"
      ]
     },
     "metadata": {},
     "output_type": "display_data"
    },
    {
     "data": {
      "text/html": [
       "<pre style=\"white-space:pre;overflow-x:auto;line-height:normal;font-family:Menlo,'DejaVu Sans Mono',consolas,'Courier New',monospace\"><span style=\"color: #7fbfbf; text-decoration-color: #7fbfbf\">           </span><span style=\"color: #000080; text-decoration-color: #000080\">INFO    </span> PID: <span style=\"color: #008080; text-decoration-color: #008080; font-weight: bold\">49597</span> - Started monitoring - base_config_1.yaml           <a href=\"file:///Users/rob/anaconda3/envs/mle-toolbox/lib/python3.9/site-packages/mle_scheduler/job.py\"><span style=\"color: #7f7f7f; text-decoration-color: #7f7f7f\">job.py</span></a><span style=\"color: #7f7f7f; text-decoration-color: #7f7f7f\">:</span><a href=\"file:///Users/rob/anaconda3/envs/mle-toolbox/lib/python3.9/site-packages/mle_scheduler/job.py#224\"><span style=\"color: #7f7f7f; text-decoration-color: #7f7f7f\">224</span></a>\n",
       "</pre>\n"
      ],
      "text/plain": [
       "\u001b[2;36m          \u001b[0m\u001b[2;36m \u001b[0m\u001b[34mINFO    \u001b[0m PID: \u001b[1;36m49597\u001b[0m - Started monitoring - base_config_1.yaml           \u001b]8;id=111846;file:///Users/rob/anaconda3/envs/mle-toolbox/lib/python3.9/site-packages/mle_scheduler/job.py\u001b\\\u001b[2mjob.py\u001b[0m\u001b]8;;\u001b\\\u001b[2m:\u001b[0m\u001b]8;id=272201;file:///Users/rob/anaconda3/envs/mle-toolbox/lib/python3.9/site-packages/mle_scheduler/job.py#224\u001b\\\u001b[2m224\u001b[0m\u001b]8;;\u001b\\\n"
      ]
     },
     "metadata": {},
     "output_type": "display_data"
    },
    {
     "data": {
      "text/html": [
       "<pre style=\"white-space:pre;overflow-x:auto;line-height:normal;font-family:Menlo,'DejaVu Sans Mono',consolas,'Courier New',monospace\"><span style=\"color: #7fbfbf; text-decoration-color: #7fbfbf\">[14:05:19] </span><span style=\"color: #000080; text-decoration-color: #000080\">INFO    </span> PID: <span style=\"color: #008080; text-decoration-color: #008080; font-weight: bold\">49597</span> - Local job completed - base_config_1.yaml          <a href=\"file:///Users/rob/anaconda3/envs/mle-toolbox/lib/python3.9/site-packages/mle_scheduler/job.py\"><span style=\"color: #7f7f7f; text-decoration-color: #7f7f7f\">job.py</span></a><span style=\"color: #7f7f7f; text-decoration-color: #7f7f7f\">:</span><a href=\"file:///Users/rob/anaconda3/envs/mle-toolbox/lib/python3.9/site-packages/mle_scheduler/job.py#230\"><span style=\"color: #7f7f7f; text-decoration-color: #7f7f7f\">230</span></a>\n",
       "</pre>\n"
      ],
      "text/plain": [
       "\u001b[2;36m[14:05:19]\u001b[0m\u001b[2;36m \u001b[0m\u001b[34mINFO    \u001b[0m PID: \u001b[1;36m49597\u001b[0m - Local job completed - base_config_1.yaml          \u001b]8;id=754996;file:///Users/rob/anaconda3/envs/mle-toolbox/lib/python3.9/site-packages/mle_scheduler/job.py\u001b\\\u001b[2mjob.py\u001b[0m\u001b]8;;\u001b\\\u001b[2m:\u001b[0m\u001b]8;id=837326;file:///Users/rob/anaconda3/envs/mle-toolbox/lib/python3.9/site-packages/mle_scheduler/job.py#230\u001b\\\u001b[2m230\u001b[0m\u001b]8;;\u001b\\\n"
      ]
     },
     "metadata": {},
     "output_type": "display_data"
    }
   ],
   "source": [
    "from mle_scheduler import MLEJob\n",
    "\n",
    "job = MLEJob(resource_to_run=\"local\",\n",
    "             job_filename=\"train.py\",\n",
    "             config_filename=\"base_config_1.yaml\",\n",
    "             experiment_dir=\"logs_single\",\n",
    "             seed_id=1,\n",
    "             logger_level=logging.INFO)\n",
    "\n",
    "_ = job.run()"
   ]
  },
  {
   "cell_type": "markdown",
   "id": "229ca15b-c9a6-4807-8e81-2cc523369a58",
   "metadata": {
    "tags": []
   },
   "source": [
    "`config_filename`, `experiment_dir` and `seed_id` are three command line arguments, which I found myself to be using fairly often. But they are not at all necessary for job execution via the `MLEJob`. Indeed, you can provide a `extra_cmd_line_input` dictionary at job instance creation, which specifies key, value pairs for `-<key> <value>`-style arguments. E.g.\n",
    "\n",
    "```python\n",
    "MLEJob(\n",
    "    resource_to_run=\"local\",\n",
    "    job_filename=\"train.py\",\n",
    "    extra_cmd_line_input={\"optim\": \"Adam\", \"lrate\": 0.1},\n",
    ")\n",
    "```\n",
    "\n",
    "will launch `python train.py -optim Adam -lrate -0.1`. By default the job will be executed from your current local shell instance (so with your currently activated environment settings). You can also provide a set of `job_arguments` to execute the job in a previously created virtual environment of your choice:\n",
    "\n",
    "```python\n",
    "MLEJob(\n",
    "    resource_to_run=\"local\",\n",
    "    job_filename=\"train.py\",\n",
    "    job_arguments={\n",
    "        \"use_conda_venv\": True,\n",
    "        \"use_venv_venv\": False,\n",
    "        \"env_name\": \"mle-toolbox\",\n",
    "    },\n",
    "    config_filename=\"base_config_1.yaml\",\n",
    "    experiment_dir=\"logs_single\",\n",
    "    seed_id=1,\n",
    ")\n",
    "```\n",
    "\n",
    "This will activate a conda virtual environment named `mle-toolbox` before executing the Python script. Finally, instead of automatically monitoring the job until completion, you can also manually monitor the status of a previously scheduled job by combining `job.schedule` and `job.monitor`:"
   ]
  },
  {
   "cell_type": "code",
   "execution_count": 4,
   "id": "e191f835-c110-42f8-bbec-44857399fa1f",
   "metadata": {},
   "outputs": [
    {
     "data": {
      "text/html": [
       "<pre style=\"white-space:pre;overflow-x:auto;line-height:normal;font-family:Menlo,'DejaVu Sans Mono',consolas,'Courier New',monospace\"><span style=\"color: #7fbfbf; text-decoration-color: #7fbfbf\">[14:05:29] </span><span style=\"color: #000080; text-decoration-color: #000080\">INFO    </span> PID: <span style=\"color: #008080; text-decoration-color: #008080; font-weight: bold\">49603</span> - Local job scheduled - base_config_1.yaml          <a href=\"file:///Users/rob/anaconda3/envs/mle-toolbox/lib/python3.9/site-packages/mle_scheduler/job.py\"><span style=\"color: #7f7f7f; text-decoration-color: #7f7f7f\">job.py</span></a><span style=\"color: #7f7f7f; text-decoration-color: #7f7f7f\">:</span><a href=\"file:///Users/rob/anaconda3/envs/mle-toolbox/lib/python3.9/site-packages/mle_scheduler/job.py#155\"><span style=\"color: #7f7f7f; text-decoration-color: #7f7f7f\">155</span></a>\n",
       "</pre>\n"
      ],
      "text/plain": [
       "\u001b[2;36m[14:05:29]\u001b[0m\u001b[2;36m \u001b[0m\u001b[34mINFO    \u001b[0m PID: \u001b[1;36m49603\u001b[0m - Local job scheduled - base_config_1.yaml          \u001b]8;id=760270;file:///Users/rob/anaconda3/envs/mle-toolbox/lib/python3.9/site-packages/mle_scheduler/job.py\u001b\\\u001b[2mjob.py\u001b[0m\u001b]8;;\u001b\\\u001b[2m:\u001b[0m\u001b]8;id=519545;file:///Users/rob/anaconda3/envs/mle-toolbox/lib/python3.9/site-packages/mle_scheduler/job.py#155\u001b\\\u001b[2m155\u001b[0m\u001b]8;;\u001b\\\n"
      ]
     },
     "metadata": {},
     "output_type": "display_data"
    },
    {
     "data": {
      "text/html": [
       "<pre style=\"white-space:pre;overflow-x:auto;line-height:normal;font-family:Menlo,'DejaVu Sans Mono',consolas,'Courier New',monospace\"><span style=\"color: #7fbfbf; text-decoration-color: #7fbfbf\">           </span><span style=\"color: #000080; text-decoration-color: #000080\">INFO    </span> PID: <span style=\"color: #008080; text-decoration-color: #008080; font-weight: bold\">49603</span> - Started monitoring - base_config_1.yaml           <a href=\"file:///Users/rob/anaconda3/envs/mle-toolbox/lib/python3.9/site-packages/mle_scheduler/job.py\"><span style=\"color: #7f7f7f; text-decoration-color: #7f7f7f\">job.py</span></a><span style=\"color: #7f7f7f; text-decoration-color: #7f7f7f\">:</span><a href=\"file:///Users/rob/anaconda3/envs/mle-toolbox/lib/python3.9/site-packages/mle_scheduler/job.py#224\"><span style=\"color: #7f7f7f; text-decoration-color: #7f7f7f\">224</span></a>\n",
       "</pre>\n"
      ],
      "text/plain": [
       "\u001b[2;36m          \u001b[0m\u001b[2;36m \u001b[0m\u001b[34mINFO    \u001b[0m PID: \u001b[1;36m49603\u001b[0m - Started monitoring - base_config_1.yaml           \u001b]8;id=590378;file:///Users/rob/anaconda3/envs/mle-toolbox/lib/python3.9/site-packages/mle_scheduler/job.py\u001b\\\u001b[2mjob.py\u001b[0m\u001b]8;;\u001b\\\u001b[2m:\u001b[0m\u001b]8;id=487575;file:///Users/rob/anaconda3/envs/mle-toolbox/lib/python3.9/site-packages/mle_scheduler/job.py#224\u001b\\\u001b[2m224\u001b[0m\u001b]8;;\u001b\\\n"
      ]
     },
     "metadata": {},
     "output_type": "display_data"
    },
    {
     "data": {
      "text/html": [
       "<pre style=\"white-space:pre;overflow-x:auto;line-height:normal;font-family:Menlo,'DejaVu Sans Mono',consolas,'Courier New',monospace\"><span style=\"color: #7fbfbf; text-decoration-color: #7fbfbf\">[14:05:30] </span><span style=\"color: #000080; text-decoration-color: #000080\">INFO    </span> PID: <span style=\"color: #008080; text-decoration-color: #008080; font-weight: bold\">49603</span> - Local job completed - base_config_1.yaml          <a href=\"file:///Users/rob/anaconda3/envs/mle-toolbox/lib/python3.9/site-packages/mle_scheduler/job.py\"><span style=\"color: #7f7f7f; text-decoration-color: #7f7f7f\">job.py</span></a><span style=\"color: #7f7f7f; text-decoration-color: #7f7f7f\">:</span><a href=\"file:///Users/rob/anaconda3/envs/mle-toolbox/lib/python3.9/site-packages/mle_scheduler/job.py#230\"><span style=\"color: #7f7f7f; text-decoration-color: #7f7f7f\">230</span></a>\n",
       "</pre>\n"
      ],
      "text/plain": [
       "\u001b[2;36m[14:05:30]\u001b[0m\u001b[2;36m \u001b[0m\u001b[34mINFO    \u001b[0m PID: \u001b[1;36m49603\u001b[0m - Local job completed - base_config_1.yaml          \u001b]8;id=57281;file:///Users/rob/anaconda3/envs/mle-toolbox/lib/python3.9/site-packages/mle_scheduler/job.py\u001b\\\u001b[2mjob.py\u001b[0m\u001b]8;;\u001b\\\u001b[2m:\u001b[0m\u001b]8;id=861225;file:///Users/rob/anaconda3/envs/mle-toolbox/lib/python3.9/site-packages/mle_scheduler/job.py#230\u001b\\\u001b[2m230\u001b[0m\u001b]8;;\u001b\\\n"
      ]
     },
     "metadata": {},
     "output_type": "display_data"
    }
   ],
   "source": [
    "job_id = job.schedule()\n",
    "while True:\n",
    "    status = job.monitor(job_id)\n",
    "    if status == 0:\n",
    "        break"
   ]
  },
  {
   "cell_type": "markdown",
   "id": "c74100d5-a957-4a7e-ae87-4a4626babdc4",
   "metadata": {},
   "source": [
    "The `MLEJob` class provides a simple primitive for managing a single job. But most of the time we are interested in collecting results simultaneously for many different jobs.\n",
    "\n",
    "# Job Queue Management with `MLEQueue` 🚀,...,🚀\n",
    "\n",
    "We can launch multiple runs for different configurations and random seeds in a queue, that will execute them simultaneously using the `MLEQueue`. The queue wraps around `MLEJob` and will by default run and monitor the jobs all at once. The following code for example will execute 4 runs for two configurations (`base_config_1.yaml` and `base_config_2.yaml`) with two different random seeds (`0` and `1`) alà:\n",
    "\n",
    "```\n",
    "python train.py -config base_config_1.yaml -seed 0 -exp_dir logs_queue/<date>_base_config_1\n",
    "python train.py -config base_config_1.yaml -seed 1 -exp_dir logs_queue/<date>_base_config_1\n",
    "python train.py -config base_config_2.yaml -seed 0 -exp_dir logs_queue/<date>_base_config_2\n",
    "python train.py -config base_config_2.yaml -seed 1 -exp_dir logs_queue/<date>_base_config_2\n",
    "```"
   ]
  },
  {
   "cell_type": "code",
   "execution_count": 5,
   "id": "fed9e8a7-74fd-4725-9bd6-31106018069d",
   "metadata": {},
   "outputs": [
    {
     "data": {
      "text/html": [
       "<pre style=\"white-space:pre;overflow-x:auto;line-height:normal;font-family:Menlo,'DejaVu Sans Mono',consolas,'Courier New',monospace\"><span style=\"color: #7fbfbf; text-decoration-color: #7fbfbf\">[14:05:35] </span><span style=\"color: #000080; text-decoration-color: #000080\">INFO    </span> Queued: local - <span style=\"color: #008080; text-decoration-color: #008080; font-weight: bold\">2</span> seeds x <span style=\"color: #008080; text-decoration-color: #008080; font-weight: bold\">2</span> configs                      <a href=\"file:///Users/rob/anaconda3/envs/mle-toolbox/lib/python3.9/site-packages/mle_scheduler/job_queue.py\"><span style=\"color: #7f7f7f; text-decoration-color: #7f7f7f\">job_queue.py</span></a><span style=\"color: #7f7f7f; text-decoration-color: #7f7f7f\">:</span><a href=\"file:///Users/rob/anaconda3/envs/mle-toolbox/lib/python3.9/site-packages/mle_scheduler/job_queue.py#162\"><span style=\"color: #7f7f7f; text-decoration-color: #7f7f7f\">162</span></a>\n",
       "</pre>\n"
      ],
      "text/plain": [
       "\u001b[2;36m[14:05:35]\u001b[0m\u001b[2;36m \u001b[0m\u001b[34mINFO    \u001b[0m Queued: local - \u001b[1;36m2\u001b[0m seeds x \u001b[1;36m2\u001b[0m configs                      \u001b]8;id=383332;file:///Users/rob/anaconda3/envs/mle-toolbox/lib/python3.9/site-packages/mle_scheduler/job_queue.py\u001b\\\u001b[2mjob_queue.py\u001b[0m\u001b]8;;\u001b\\\u001b[2m:\u001b[0m\u001b]8;id=700624;file:///Users/rob/anaconda3/envs/mle-toolbox/lib/python3.9/site-packages/mle_scheduler/job_queue.py#162\u001b\\\u001b[2m162\u001b[0m\u001b]8;;\u001b\\\n"
      ]
     },
     "metadata": {},
     "output_type": "display_data"
    },
    {
     "data": {
      "text/html": [
       "<pre style=\"white-space:pre;overflow-x:auto;line-height:normal;font-family:Menlo,'DejaVu Sans Mono',consolas,'Courier New',monospace\"><span style=\"color: #7fbfbf; text-decoration-color: #7fbfbf\">           </span><span style=\"color: #000080; text-decoration-color: #000080\">INFO    </span> Launched: local - Set of <span style=\"color: #008080; text-decoration-color: #008080; font-weight: bold\">4</span>/<span style=\"color: #008080; text-decoration-color: #008080; font-weight: bold\">4</span> Jobs                        <a href=\"file:///Users/rob/anaconda3/envs/mle-toolbox/lib/python3.9/site-packages/mle_scheduler/job_queue.py\"><span style=\"color: #7f7f7f; text-decoration-color: #7f7f7f\">job_queue.py</span></a><span style=\"color: #7f7f7f; text-decoration-color: #7f7f7f\">:</span><a href=\"file:///Users/rob/anaconda3/envs/mle-toolbox/lib/python3.9/site-packages/mle_scheduler/job_queue.py#182\"><span style=\"color: #7f7f7f; text-decoration-color: #7f7f7f\">182</span></a>\n",
       "</pre>\n"
      ],
      "text/plain": [
       "\u001b[2;36m          \u001b[0m\u001b[2;36m \u001b[0m\u001b[34mINFO    \u001b[0m Launched: local - Set of \u001b[1;36m4\u001b[0m/\u001b[1;36m4\u001b[0m Jobs                        \u001b]8;id=749500;file:///Users/rob/anaconda3/envs/mle-toolbox/lib/python3.9/site-packages/mle_scheduler/job_queue.py\u001b\\\u001b[2mjob_queue.py\u001b[0m\u001b]8;;\u001b\\\u001b[2m:\u001b[0m\u001b]8;id=492540;file:///Users/rob/anaconda3/envs/mle-toolbox/lib/python3.9/site-packages/mle_scheduler/job_queue.py#182\u001b\\\u001b[2m182\u001b[0m\u001b]8;;\u001b\\\n"
      ]
     },
     "metadata": {},
     "output_type": "display_data"
    },
    {
     "data": {
      "application/vnd.jupyter.widget-view+json": {
       "model_id": "4f960ef58ea94d5c889b3c2f9e6c325d",
       "version_major": 2,
       "version_minor": 0
      },
      "text/plain": [
       "Output()"
      ]
     },
     "metadata": {},
     "output_type": "display_data"
    },
    {
     "data": {
      "text/html": [
       "<pre style=\"white-space:pre;overflow-x:auto;line-height:normal;font-family:Menlo,'DejaVu Sans Mono',consolas,'Courier New',monospace\"></pre>\n"
      ],
      "text/plain": []
     },
     "metadata": {},
     "output_type": "display_data"
    },
    {
     "data": {
      "text/html": [
       "<pre style=\"white-space:pre;overflow-x:auto;line-height:normal;font-family:Menlo,'DejaVu Sans Mono',consolas,'Courier New',monospace\">\n",
       "</pre>\n"
      ],
      "text/plain": [
       "\n"
      ]
     },
     "metadata": {},
     "output_type": "display_data"
    },
    {
     "data": {
      "text/html": [
       "<pre style=\"white-space:pre;overflow-x:auto;line-height:normal;font-family:Menlo,'DejaVu Sans Mono',consolas,'Courier New',monospace\"><span style=\"color: #7fbfbf; text-decoration-color: #7fbfbf\">[14:05:36] </span><span style=\"color: #000080; text-decoration-color: #000080\">INFO    </span> Completed: local - <span style=\"color: #008080; text-decoration-color: #008080; font-weight: bold\">4</span>/<span style=\"color: #008080; text-decoration-color: #008080; font-weight: bold\">4</span> Jobs                              <a href=\"file:///Users/rob/anaconda3/envs/mle-toolbox/lib/python3.9/site-packages/mle_scheduler/job_queue.py\"><span style=\"color: #7f7f7f; text-decoration-color: #7f7f7f\">job_queue.py</span></a><span style=\"color: #7f7f7f; text-decoration-color: #7f7f7f\">:</span><a href=\"file:///Users/rob/anaconda3/envs/mle-toolbox/lib/python3.9/site-packages/mle_scheduler/job_queue.py#283\"><span style=\"color: #7f7f7f; text-decoration-color: #7f7f7f\">283</span></a>\n",
       "</pre>\n"
      ],
      "text/plain": [
       "\u001b[2;36m[14:05:36]\u001b[0m\u001b[2;36m \u001b[0m\u001b[34mINFO    \u001b[0m Completed: local - \u001b[1;36m4\u001b[0m/\u001b[1;36m4\u001b[0m Jobs                              \u001b]8;id=228800;file:///Users/rob/anaconda3/envs/mle-toolbox/lib/python3.9/site-packages/mle_scheduler/job_queue.py\u001b\\\u001b[2mjob_queue.py\u001b[0m\u001b]8;;\u001b\\\u001b[2m:\u001b[0m\u001b]8;id=635508;file:///Users/rob/anaconda3/envs/mle-toolbox/lib/python3.9/site-packages/mle_scheduler/job_queue.py#283\u001b\\\u001b[2m283\u001b[0m\u001b]8;;\u001b\\\n"
      ]
     },
     "metadata": {},
     "output_type": "display_data"
    }
   ],
   "source": [
    "from mle_scheduler import MLEQueue\n",
    "\n",
    "queue = MLEQueue(resource_to_run=\"local\",\n",
    "                 job_filename=\"train.py\",\n",
    "                 config_filenames=[\"base_config_1.yaml\",\n",
    "                                   \"base_config_2.yaml\"],\n",
    "                 random_seeds=[0, 1],\n",
    "                 experiment_dir=\"logs_queue\",\n",
    "                 logger_level=logging.INFO)\n",
    "queue.run()"
   ]
  },
  {
   "cell_type": "markdown",
   "id": "8d1587b0-79cb-458b-b4b6-b6d062ade051",
   "metadata": {},
   "source": [
    "By default all jobs will be launched/queued in parallel. But you can also control how many jobs to schedule at a given point in time. E.g. if you don't want more than 10 jobs to be running/queued simultaneously simply add the `max_running_jobs=<num_jobs>` option to the `MLEQueue`. In this case a new job will be launched, whenever a previously queued job terminates and there still remain unscheduled ones left in the queue. If you want to run batches of jobs as for example in Batch Bayesian Optimization or synchronous Population-Based Training you will have to instantiate multiple queues sequentially and wait until the previous one completes.\n",
    "\n",
    "Above we have explicitly provided the random seeds we would like to run our experiment on. Alternatively, if you would like to randomly generate these seeds, you can also simply specify the number of desired seeds via the `num_seeds` option. And again, you can use `job_arguments` to specify a virtual environment or different command line arguments via `extra_cmd_line_input`."
   ]
  },
  {
   "cell_type": "markdown",
   "id": "c77fef46-4d6c-41e0-80a9-55a823356135",
   "metadata": {},
   "source": [
    "# Launching Slurm/GridEngine Cluster-Based Jobs 🐒/🐘\n",
    "\n",
    "All the previous code runs perfectly fine on a single local machine (e.g. the Colab/notebook server you are executing these cells on). But the true power of the `mle-scheduler` lies in its capabilities to run jobs on multiple remote compute nodes such as high-performance clusters (HPC). At the point of writing the `mle-scheduler` implements job launch/monitor utilities for both [Slurm](https://slurm.schedmd.com/) and [Open Grid Engine](http://gridscheduler.sourceforge.net/documentation.html) schedulers. So how does one specify the resources that one wants to request when scheduling a job? This happens via the `job_arguments` input dictionary. For both cluster schedulers, you have the following resource options: \n",
    "\n",
    "|*All Schedulers*| Type | Optional | Description | \n",
    "|----|:----: | :----: | ----|\n",
    "|`num_logical_cores` | `int` | ❌ | Number of logical cores requested per job\n",
    "|`num_gpus` | `int` | ✔️ | Number of GPUs requested per job\n",
    "|`gpu_type` | `str` | ✔️ | Type of GPU requested per job\n",
    "|`memory_per_job` | `int` | ✔️ | Memory in MB requested per job\n",
    "|`time_per_job` | `str` | ✔️ | Max. job run time (`dd:hh:mm`) before termination\n",
    "|`env_name` | `str` | ✔️ | Virtual environment name to activate at job start-up\n",
    "|`use_conda_venv` | `bool` | ✔️ | Whether to use a `virtualenv`-based environment\n",
    "|`use_venv_venv` | `bool` | ✔️ | Whether to use an Anaconda-based environment\n",
    "|`job_name` | `str` | ✔️ | Job name of scheduled job shown in (`squeue`/`qstat`)\n",
    "\n",
    "For Slurm schedulers you have the following additional arguments:\n",
    "\n",
    "|*Only Slurm*| Type | Optional | Description | \n",
    "|----|:----: | :----: | ----|\n",
    "|`partition` | `str` | ❌ | Partition to schedule job on\n",
    "|`modules_to_load` | `Union[List[str], str]` | ✔️ | Modules to load at job start-up\n",
    "\n",
    "And for Open Grid Engine schedulers:\n",
    "\n",
    "|*Only Grid Engine* | Type | Optional | Description | \n",
    "|----|:----: | :----: | ----|\n",
    "|`queue` | `str` | ❌ | Queue to schedule job on\n",
    "|`gpu_prefix` | `str` | ✔️ | Prefix to request GPU nodes (`#$ -l {gpu_prefix}=\"{num_gpus}\"`)\n",
    "|`exclude_nodes` | `List[str]` | ✔️ | List of node addresses to exclude from being scheduled on\n",
    "\n",
    "Importantly, when launching a `MLEJob`/`MLEQueue` we assume that you are currently on the headnode of your cluster which uses a standard shared file system. They will then generate job submission files based on a simple templating approach. These will then be executed via `sbatch` or `qsub`. The status of the individual jobs is tracked by continuously checking up on them using `squeue` and `qstat`. This is fairly lightweight and can easily be run on the headnode. [In a future release I plan on adding the option to launch cluster jobs from your local machine and to add Singularity/Docker containerization support!] Otherwise everything else remains the same as before:"
   ]
  },
  {
   "cell_type": "code",
   "execution_count": null,
   "id": "7bf46e2a-d35d-4b2c-97ba-14c22132dc6f",
   "metadata": {},
   "outputs": [],
   "source": [
    "# Each job requests 5 CPU cores & 1 V100S GPU w. CUDA 10.0 loaded\n",
    "job_args = {\n",
    "    \"partition\": \"<SLURM_PARTITION>\",  # Partition(s) to schedule jobs on\n",
    "    \"env_name\": \"mle-toolbox\",  # Env to activate at job start-up\n",
    "    \"use_conda_venv\": True,  # Whether to use anaconda venv\n",
    "    \"num_logical_cores\": 5,  # Number of requested CPU cores per job\n",
    "    \"num_gpus\": 1,  # Number of requested GPUs per job\n",
    "    \"gpu_type\": \"V100S\",  # GPU model requested for each job\n",
    "    \"modules_to_load\": \"nvidia/cuda/10.0\"  # Modules to load at start-up\n",
    "}\n",
    "\n",
    "\n",
    "queue = MLEQueue(\n",
    "    resource_to_run=\"slurm-cluster\",\n",
    "    job_filename=\"train.py\",\n",
    "    job_arguments=job_args,\n",
    "    config_filenames=[\"base_config_1.yaml\", \"base_config_2.yaml\"],\n",
    "    experiment_dir=\"logs_queue_slurm\",\n",
    "    random_seeds=[0, 1]\n",
    ")\n",
    "queue.run()"
   ]
  },
  {
   "cell_type": "markdown",
   "id": "2fcbc8be-42d4-4fa0-b5be-0c614c4fcccb",
   "metadata": {},
   "source": [
    "# Launching SSH Server-Based Jobs 🦊\n",
    "\n",
    "Not every academic lab may have access to an institution-wide HPC. Instead you may be working with a set of servers, which you can access via SSH. The `mle-scheduler` also allows you to launch jobs in such situations. In order to do so, you will first need to have setup passwordless SSH access to your. This can for example be done by following [these](https://linuxize.com/post/how-to-setup-passwordless-ssh-login/) instructions and will create a private key on your local machine (e.g. a file called `~/.ssh/id_rsa`). You will have to provide this key path as well as your user name, server address, SSH port and the remote code directory in the `ssh_settings` which will be passed to the `MLEJob` & `MLEQueue` instances. This will allow us to establish a SSH connection using the [`paramiko`](https://github.com/paramiko/paramiko) client.\n",
    "\n",
    "For all SSH server-based jobs you have to then provide the following `ssh_settings` input to `MLEJob` and `MLEQueue`:\n",
    "\n",
    "|| Type | Optional | Description | \n",
    "|----|:----: | :----: | ----|\n",
    "|`user_name` | `str` | ❌ | SSH server user name\n",
    "|`pkey_path` | `str` | ❌ | Private key path (e.g. ~/.ssh/id_rsa)\n",
    "|`main_server` | `str` | ❌ | SSH Server address\n",
    "|`jump_server` | `str` | ❌ | Jump host address\n",
    "|`ssh_port` | `int` | ❌ | SSH port (e.g. 22)\n",
    "|`remote_dir` | `str` | ❌ | Dir to sync code to on server\n",
    "|`start_up_copy_dir` | `str` | ✔️/❌ | Whether to copy code to server\n",
    "|`clean_up_remote_dir` | `str` | ✔️/❌ | Whether to delete remote_dir on exit\n",
    "\n",
    "In order to launch a job from your local machine on the remote server you will most likely first need to copy the code directory to the server. This can either be done manually using `scp` or using the `send_code_ssh` function. By default this will send the current working directory to `ssh_settings[\"remote_dir\"]`:"
   ]
  },
  {
   "cell_type": "code",
   "execution_count": 6,
   "id": "713854c7-6a45-4e9f-ada7-936c08862ec2",
   "metadata": {},
   "outputs": [],
   "source": [
    "from mle_scheduler.ssh import send_dir_ssh, copy_dir_ssh, delete_dir_ssh\n",
    "\n",
    "ssh_settings = {\n",
    "    \"user_name\": os.environ[\"SSH_USER_NAME\"],  # SSH server user name\n",
    "    \"pkey_path\": os.environ[\"PKEY_PATH\"],  # Private key path (e.g. ~/.ssh/id_rsa)\n",
    "    \"main_server\": os.environ[\"SSH_SERVER\"],  # SSH Server address\n",
    "    \"jump_server\": '',  # Jump host address\n",
    "    \"ssh_port\": 22,  # SSH port\n",
    "    \"remote_dir\": \"mle-code-dir\",  # Dir to sync code to on server\n",
    "}\n",
    "\n",
    "# scp the current working directory to a mle-code-dir remote\n",
    "send_dir_ssh(ssh_settings)"
   ]
  },
  {
   "cell_type": "markdown",
   "id": "89f9e3b5-3073-4380-8b31-a54971fd00a8",
   "metadata": {},
   "source": [
    "Afterwards, we are ready to run the job on the SSH server by `ssh_settings` to our `MLEJob` instance. Once the job is completed the results can be copied back to your local machine using `copy_results_ssh` and the directory path storing the results. Finally, you can use `clean_up_ssh` to delete the previously copied code directory:"
   ]
  },
  {
   "cell_type": "code",
   "execution_count": 7,
   "id": "d6f54dab-dda0-45db-9992-49dbcedd65d2",
   "metadata": {},
   "outputs": [
    {
     "data": {
      "text/html": [
       "<pre style=\"white-space:pre;overflow-x:auto;line-height:normal;font-family:Menlo,'DejaVu Sans Mono',consolas,'Courier New',monospace\"><span style=\"color: #7fbfbf; text-decoration-color: #7fbfbf\">[11:49:08] </span><span style=\"color: #000080; text-decoration-color: #000080\">INFO    </span> PID: <span style=\"color: #008080; text-decoration-color: #008080; font-weight: bold\">3469234</span> - SSH job scheduled - base_config_1.yaml          <a href=\"file:///Users/rob/Dropbox/core-code/mle-infrastructure/mle-scheduler/mle_scheduler/job.py\"><span style=\"color: #7f7f7f; text-decoration-color: #7f7f7f\">job.py</span></a><span style=\"color: #7f7f7f; text-decoration-color: #7f7f7f\">:</span><a href=\"file:///Users/rob/Dropbox/core-code/mle-infrastructure/mle-scheduler/mle_scheduler/job.py#157\"><span style=\"color: #7f7f7f; text-decoration-color: #7f7f7f\">157</span></a>\n",
       "</pre>\n"
      ],
      "text/plain": [
       "\u001b[2;36m[11:49:08]\u001b[0m\u001b[2;36m \u001b[0m\u001b[34mINFO    \u001b[0m PID: \u001b[1;36m3469234\u001b[0m - SSH job scheduled - base_config_1.yaml          \u001b]8;id=730003;file:///Users/rob/Dropbox/core-code/mle-infrastructure/mle-scheduler/mle_scheduler/job.py\u001b\\\u001b[2mjob.py\u001b[0m\u001b]8;;\u001b\\\u001b[2m:\u001b[0m\u001b]8;id=36396;file:///Users/rob/Dropbox/core-code/mle-infrastructure/mle-scheduler/mle_scheduler/job.py#157\u001b\\\u001b[2m157\u001b[0m\u001b]8;;\u001b\\\n"
      ]
     },
     "metadata": {},
     "output_type": "display_data"
    },
    {
     "data": {
      "text/html": [
       "<pre style=\"white-space:pre;overflow-x:auto;line-height:normal;font-family:Menlo,'DejaVu Sans Mono',consolas,'Courier New',monospace\"><span style=\"color: #7fbfbf; text-decoration-color: #7fbfbf\">           </span><span style=\"color: #000080; text-decoration-color: #000080\">INFO    </span> SSH PID: <span style=\"color: #008080; text-decoration-color: #008080; font-weight: bold\">3469234</span> - Started monitoring - base_config_1.yaml     <a href=\"file:///Users/rob/Dropbox/core-code/mle-infrastructure/mle-scheduler/mle_scheduler/job.py\"><span style=\"color: #7f7f7f; text-decoration-color: #7f7f7f\">job.py</span></a><span style=\"color: #7f7f7f; text-decoration-color: #7f7f7f\">:</span><a href=\"file:///Users/rob/Dropbox/core-code/mle-infrastructure/mle-scheduler/mle_scheduler/job.py#197\"><span style=\"color: #7f7f7f; text-decoration-color: #7f7f7f\">197</span></a>\n",
       "</pre>\n"
      ],
      "text/plain": [
       "\u001b[2;36m          \u001b[0m\u001b[2;36m \u001b[0m\u001b[34mINFO    \u001b[0m SSH PID: \u001b[1;36m3469234\u001b[0m - Started monitoring - base_config_1.yaml     \u001b]8;id=752118;file:///Users/rob/Dropbox/core-code/mle-infrastructure/mle-scheduler/mle_scheduler/job.py\u001b\\\u001b[2mjob.py\u001b[0m\u001b]8;;\u001b\\\u001b[2m:\u001b[0m\u001b]8;id=835141;file:///Users/rob/Dropbox/core-code/mle-infrastructure/mle-scheduler/mle_scheduler/job.py#197\u001b\\\u001b[2m197\u001b[0m\u001b]8;;\u001b\\\n"
      ]
     },
     "metadata": {},
     "output_type": "display_data"
    },
    {
     "name": "stderr",
     "output_type": "stream",
     "text": [
      "2021-12-07 11:49:15,039| ERROR   | Could not establish connection from local ('127.0.0.1', 63902) to remote ('cluster.ml.tu-berlin.de', 22) side of the tunnel: \n"
     ]
    },
    {
     "data": {
      "text/html": [
       "<pre style=\"white-space:pre;overflow-x:auto;line-height:normal;font-family:Menlo,'DejaVu Sans Mono',consolas,'Courier New',monospace\"><span style=\"color: #7fbfbf; text-decoration-color: #7fbfbf\">[11:49:16] </span><span style=\"color: #000080; text-decoration-color: #000080\">INFO    </span> SSH PID: <span style=\"color: #008080; text-decoration-color: #008080; font-weight: bold\">3469234</span> - SSH job completed - base_config_1.yaml      <a href=\"file:///Users/rob/Dropbox/core-code/mle-infrastructure/mle-scheduler/mle_scheduler/job.py\"><span style=\"color: #7f7f7f; text-decoration-color: #7f7f7f\">job.py</span></a><span style=\"color: #7f7f7f; text-decoration-color: #7f7f7f\">:</span><a href=\"file:///Users/rob/Dropbox/core-code/mle-infrastructure/mle-scheduler/mle_scheduler/job.py#202\"><span style=\"color: #7f7f7f; text-decoration-color: #7f7f7f\">202</span></a>\n",
       "</pre>\n"
      ],
      "text/plain": [
       "\u001b[2;36m[11:49:16]\u001b[0m\u001b[2;36m \u001b[0m\u001b[34mINFO    \u001b[0m SSH PID: \u001b[1;36m3469234\u001b[0m - SSH job completed - base_config_1.yaml      \u001b]8;id=268704;file:///Users/rob/Dropbox/core-code/mle-infrastructure/mle-scheduler/mle_scheduler/job.py\u001b\\\u001b[2mjob.py\u001b[0m\u001b]8;;\u001b\\\u001b[2m:\u001b[0m\u001b]8;id=843282;file:///Users/rob/Dropbox/core-code/mle-infrastructure/mle-scheduler/mle_scheduler/job.py#202\u001b\\\u001b[2m202\u001b[0m\u001b]8;;\u001b\\\n"
      ]
     },
     "metadata": {},
     "output_type": "display_data"
    }
   ],
   "source": [
    "job = MLEJob(resource_to_run=\"ssh-node\",\n",
    "             job_filename=\"train.py\",\n",
    "             config_filename=\"base_config_1.yaml\",\n",
    "             experiment_dir=\"logs_ssh_single\",\n",
    "             job_arguments={\"env_name\": \"mle-toolbox\",\n",
    "                            \"use_conda_venv\": True},\n",
    "             ssh_settings=ssh_settings,\n",
    "             logger_level=logging.INFO)\n",
    "\n",
    "job.run()\n",
    "\n",
    "# Copy over the results from the SSH server\n",
    "copy_dir_ssh(ssh_settings, remote_dir=\"mle-code-dir/logs_ssh_single\")\n",
    "\n",
    "# Delete the code directory on the SSH server\n",
    "delete_dir_ssh(ssh_settings)"
   ]
  },
  {
   "cell_type": "markdown",
   "id": "11814eb8-3c04-46fa-8967-91f6e599d1f5",
   "metadata": {},
   "source": [
    "If you would like to run a queue of jobs, you don't want to copy the same code directory over to the server each time. Instead, the `MLEQueue` will copy the directory (if desired) once at start-up and will delete it again once all jobs have terminated. Furthermore, it will automatically copy the results in to your local execution directory. Note that the error log messages don't have to bother us. They simply come from the ssh client needing a couple of attempts to establish a connection."
   ]
  },
  {
   "cell_type": "code",
   "execution_count": 8,
   "id": "0c99aa0c-461d-4ff6-8c59-cd88b0b2e187",
   "metadata": {},
   "outputs": [
    {
     "data": {
      "text/html": [
       "<pre style=\"white-space:pre;overflow-x:auto;line-height:normal;font-family:Menlo,'DejaVu Sans Mono',consolas,'Courier New',monospace\"><span style=\"color: #7fbfbf; text-decoration-color: #7fbfbf\">[11:49:43] </span><span style=\"color: #000080; text-decoration-color: #000080\">INFO    </span> Copied code directory to SSH server                       <a href=\"file:///Users/rob/Dropbox/core-code/mle-infrastructure/mle-scheduler/mle_scheduler/job_queue.py\"><span style=\"color: #7f7f7f; text-decoration-color: #7f7f7f\">job_queue.py</span></a><span style=\"color: #7f7f7f; text-decoration-color: #7f7f7f\">:</span><a href=\"file:///Users/rob/Dropbox/core-code/mle-infrastructure/mle-scheduler/mle_scheduler/job_queue.py#77\"><span style=\"color: #7f7f7f; text-decoration-color: #7f7f7f\">77</span></a>\n",
       "</pre>\n"
      ],
      "text/plain": [
       "\u001b[2;36m[11:49:43]\u001b[0m\u001b[2;36m \u001b[0m\u001b[34mINFO    \u001b[0m Copied code directory to SSH server                       \u001b]8;id=151219;file:///Users/rob/Dropbox/core-code/mle-infrastructure/mle-scheduler/mle_scheduler/job_queue.py\u001b\\\u001b[2mjob_queue.py\u001b[0m\u001b]8;;\u001b\\\u001b[2m:\u001b[0m\u001b]8;id=449895;file:///Users/rob/Dropbox/core-code/mle-infrastructure/mle-scheduler/mle_scheduler/job_queue.py#77\u001b\\\u001b[2m77\u001b[0m\u001b]8;;\u001b\\\n"
      ]
     },
     "metadata": {},
     "output_type": "display_data"
    },
    {
     "data": {
      "text/html": [
       "<pre style=\"white-space:pre;overflow-x:auto;line-height:normal;font-family:Menlo,'DejaVu Sans Mono',consolas,'Courier New',monospace\"><span style=\"color: #7fbfbf; text-decoration-color: #7fbfbf\">           </span><span style=\"color: #000080; text-decoration-color: #000080\">INFO    </span> Queued: ssh-node - <span style=\"color: #008080; text-decoration-color: #008080; font-weight: bold\">2</span> seeds x <span style=\"color: #008080; text-decoration-color: #008080; font-weight: bold\">2</span> configs                   <a href=\"file:///Users/rob/Dropbox/core-code/mle-infrastructure/mle-scheduler/mle_scheduler/job_queue.py\"><span style=\"color: #7f7f7f; text-decoration-color: #7f7f7f\">job_queue.py</span></a><span style=\"color: #7f7f7f; text-decoration-color: #7f7f7f\">:</span><a href=\"file:///Users/rob/Dropbox/core-code/mle-infrastructure/mle-scheduler/mle_scheduler/job_queue.py#143\"><span style=\"color: #7f7f7f; text-decoration-color: #7f7f7f\">143</span></a>\n",
       "</pre>\n"
      ],
      "text/plain": [
       "\u001b[2;36m          \u001b[0m\u001b[2;36m \u001b[0m\u001b[34mINFO    \u001b[0m Queued: ssh-node - \u001b[1;36m2\u001b[0m seeds x \u001b[1;36m2\u001b[0m configs                   \u001b]8;id=264715;file:///Users/rob/Dropbox/core-code/mle-infrastructure/mle-scheduler/mle_scheduler/job_queue.py\u001b\\\u001b[2mjob_queue.py\u001b[0m\u001b]8;;\u001b\\\u001b[2m:\u001b[0m\u001b]8;id=705112;file:///Users/rob/Dropbox/core-code/mle-infrastructure/mle-scheduler/mle_scheduler/job_queue.py#143\u001b\\\u001b[2m143\u001b[0m\u001b]8;;\u001b\\\n"
      ]
     },
     "metadata": {},
     "output_type": "display_data"
    },
    {
     "data": {
      "text/html": [
       "<pre style=\"white-space:pre;overflow-x:auto;line-height:normal;font-family:Menlo,'DejaVu Sans Mono',consolas,'Courier New',monospace\"><span style=\"color: #7fbfbf; text-decoration-color: #7fbfbf\">[11:50:17] </span><span style=\"color: #000080; text-decoration-color: #000080\">INFO    </span> Launched: ssh-node - Set of <span style=\"color: #008080; text-decoration-color: #008080; font-weight: bold\">4</span>/<span style=\"color: #008080; text-decoration-color: #008080; font-weight: bold\">4</span> Jobs                     <a href=\"file:///Users/rob/Dropbox/core-code/mle-infrastructure/mle-scheduler/mle_scheduler/job_queue.py\"><span style=\"color: #7f7f7f; text-decoration-color: #7f7f7f\">job_queue.py</span></a><span style=\"color: #7f7f7f; text-decoration-color: #7f7f7f\">:</span><a href=\"file:///Users/rob/Dropbox/core-code/mle-infrastructure/mle-scheduler/mle_scheduler/job_queue.py#161\"><span style=\"color: #7f7f7f; text-decoration-color: #7f7f7f\">161</span></a>\n",
       "</pre>\n"
      ],
      "text/plain": [
       "\u001b[2;36m[11:50:17]\u001b[0m\u001b[2;36m \u001b[0m\u001b[34mINFO    \u001b[0m Launched: ssh-node - Set of \u001b[1;36m4\u001b[0m/\u001b[1;36m4\u001b[0m Jobs                     \u001b]8;id=491312;file:///Users/rob/Dropbox/core-code/mle-infrastructure/mle-scheduler/mle_scheduler/job_queue.py\u001b\\\u001b[2mjob_queue.py\u001b[0m\u001b]8;;\u001b\\\u001b[2m:\u001b[0m\u001b]8;id=636234;file:///Users/rob/Dropbox/core-code/mle-infrastructure/mle-scheduler/mle_scheduler/job_queue.py#161\u001b\\\u001b[2m161\u001b[0m\u001b]8;;\u001b\\\n"
      ]
     },
     "metadata": {},
     "output_type": "display_data"
    },
    {
     "data": {
      "application/vnd.jupyter.widget-view+json": {
       "model_id": "b37f3f124c064da2b82f11ac17a68792",
       "version_major": 2,
       "version_minor": 0
      },
      "text/plain": [
       "Output()"
      ]
     },
     "metadata": {},
     "output_type": "display_data"
    },
    {
     "name": "stderr",
     "output_type": "stream",
     "text": [
      "2021-12-07 11:50:35,637| ERROR   | Could not establish connection from local ('127.0.0.1', 63963) to remote ('cluster.ml.tu-berlin.de', 22) side of the tunnel: \n"
     ]
    },
    {
     "data": {
      "text/html": [
       "<pre style=\"white-space:pre;overflow-x:auto;line-height:normal;font-family:Menlo,'DejaVu Sans Mono',consolas,'Courier New',monospace\">  <span style=\"color: #000080; text-decoration-color: #000080; font-weight: bold\">MLEQueue - ssh-node •</span> 4/4 Jobs <span style=\"color: #729c1f; text-decoration-color: #729c1f\">━━━━━━━━━━━━━━━━━━━━━━━━━━━</span> <span style=\"color: #800080; text-decoration-color: #800080\">100% •</span> <span style=\"color: #808000; text-decoration-color: #808000\">0:00:24</span> ⌛\n",
       "</pre>\n"
      ],
      "text/plain": [
       "  \u001b[1;34mMLEQueue - ssh-node •\u001b[0m 4/4 Jobs \u001b[38;2;114;156;31m━━━━━━━━━━━━━━━━━━━━━━━━━━━\u001b[0m \u001b[35m100% •\u001b[0m \u001b[33m0:00:24\u001b[0m ⌛\n"
      ]
     },
     "metadata": {},
     "output_type": "display_data"
    },
    {
     "data": {
      "text/html": [
       "<pre style=\"white-space:pre;overflow-x:auto;line-height:normal;font-family:Menlo,'DejaVu Sans Mono',consolas,'Courier New',monospace\">\n",
       "</pre>\n"
      ],
      "text/plain": [
       "\n"
      ]
     },
     "metadata": {},
     "output_type": "display_data"
    },
    {
     "data": {
      "text/html": [
       "<pre style=\"white-space:pre;overflow-x:auto;line-height:normal;font-family:Menlo,'DejaVu Sans Mono',consolas,'Courier New',monospace\"><span style=\"color: #7fbfbf; text-decoration-color: #7fbfbf\">[11:50:41] </span><span style=\"color: #000080; text-decoration-color: #000080\">INFO    </span> Completed: ssh-node - <span style=\"color: #008080; text-decoration-color: #008080; font-weight: bold\">4</span>/<span style=\"color: #008080; text-decoration-color: #008080; font-weight: bold\">4</span> Jobs                           <a href=\"file:///Users/rob/Dropbox/core-code/mle-infrastructure/mle-scheduler/mle_scheduler/job_queue.py\"><span style=\"color: #7f7f7f; text-decoration-color: #7f7f7f\">job_queue.py</span></a><span style=\"color: #7f7f7f; text-decoration-color: #7f7f7f\">:</span><a href=\"file:///Users/rob/Dropbox/core-code/mle-infrastructure/mle-scheduler/mle_scheduler/job_queue.py#256\"><span style=\"color: #7f7f7f; text-decoration-color: #7f7f7f\">256</span></a>\n",
       "</pre>\n"
      ],
      "text/plain": [
       "\u001b[2;36m[11:50:41]\u001b[0m\u001b[2;36m \u001b[0m\u001b[34mINFO    \u001b[0m Completed: ssh-node - \u001b[1;36m4\u001b[0m/\u001b[1;36m4\u001b[0m Jobs                           \u001b]8;id=624599;file:///Users/rob/Dropbox/core-code/mle-infrastructure/mle-scheduler/mle_scheduler/job_queue.py\u001b\\\u001b[2mjob_queue.py\u001b[0m\u001b]8;;\u001b\\\u001b[2m:\u001b[0m\u001b]8;id=68005;file:///Users/rob/Dropbox/core-code/mle-infrastructure/mle-scheduler/mle_scheduler/job_queue.py#256\u001b\\\u001b[2m256\u001b[0m\u001b]8;;\u001b\\\n"
      ]
     },
     "metadata": {},
     "output_type": "display_data"
    },
    {
     "data": {
      "text/html": [
       "<pre style=\"white-space:pre;overflow-x:auto;line-height:normal;font-family:Menlo,'DejaVu Sans Mono',consolas,'Courier New',monospace\"><span style=\"color: #7fbfbf; text-decoration-color: #7fbfbf\">[11:50:48] </span><span style=\"color: #000080; text-decoration-color: #000080\">INFO    </span> Pulled SSH results - logs_ssh_queue                      <a href=\"file:///Users/rob/Dropbox/core-code/mle-infrastructure/mle-scheduler/mle_scheduler/job_queue.py\"><span style=\"color: #7f7f7f; text-decoration-color: #7f7f7f\">job_queue.py</span></a><span style=\"color: #7f7f7f; text-decoration-color: #7f7f7f\">:</span><a href=\"file:///Users/rob/Dropbox/core-code/mle-infrastructure/mle-scheduler/mle_scheduler/job_queue.py#269\"><span style=\"color: #7f7f7f; text-decoration-color: #7f7f7f\">269</span></a>\n",
       "</pre>\n"
      ],
      "text/plain": [
       "\u001b[2;36m[11:50:48]\u001b[0m\u001b[2;36m \u001b[0m\u001b[34mINFO    \u001b[0m Pulled SSH results - logs_ssh_queue                      \u001b]8;id=215832;file:///Users/rob/Dropbox/core-code/mle-infrastructure/mle-scheduler/mle_scheduler/job_queue.py\u001b\\\u001b[2mjob_queue.py\u001b[0m\u001b]8;;\u001b\\\u001b[2m:\u001b[0m\u001b]8;id=657199;file:///Users/rob/Dropbox/core-code/mle-infrastructure/mle-scheduler/mle_scheduler/job_queue.py#269\u001b\\\u001b[2m269\u001b[0m\u001b]8;;\u001b\\\n"
      ]
     },
     "metadata": {},
     "output_type": "display_data"
    },
    {
     "name": "stderr",
     "output_type": "stream",
     "text": [
      "2021-12-07 11:50:55,116| ERROR   | Could not establish connection from local ('127.0.0.1', 63987) to remote ('cluster.ml.tu-berlin.de', 22) side of the tunnel: \n"
     ]
    },
    {
     "data": {
      "text/html": [
       "<pre style=\"white-space:pre;overflow-x:auto;line-height:normal;font-family:Menlo,'DejaVu Sans Mono',consolas,'Courier New',monospace\"><span style=\"color: #7fbfbf; text-decoration-color: #7fbfbf\">[11:50:55] </span><span style=\"color: #000080; text-decoration-color: #000080\">INFO    </span> Deleted SSH directory - mle-code-dir                     <a href=\"file:///Users/rob/Dropbox/core-code/mle-infrastructure/mle-scheduler/mle_scheduler/job_queue.py\"><span style=\"color: #7f7f7f; text-decoration-color: #7f7f7f\">job_queue.py</span></a><span style=\"color: #7f7f7f; text-decoration-color: #7f7f7f\">:</span><a href=\"file:///Users/rob/Dropbox/core-code/mle-infrastructure/mle-scheduler/mle_scheduler/job_queue.py#274\"><span style=\"color: #7f7f7f; text-decoration-color: #7f7f7f\">274</span></a>\n",
       "</pre>\n"
      ],
      "text/plain": [
       "\u001b[2;36m[11:50:55]\u001b[0m\u001b[2;36m \u001b[0m\u001b[34mINFO    \u001b[0m Deleted SSH directory - mle-code-dir                     \u001b]8;id=397922;file:///Users/rob/Dropbox/core-code/mle-infrastructure/mle-scheduler/mle_scheduler/job_queue.py\u001b\\\u001b[2mjob_queue.py\u001b[0m\u001b]8;;\u001b\\\u001b[2m:\u001b[0m\u001b]8;id=249970;file:///Users/rob/Dropbox/core-code/mle-infrastructure/mle-scheduler/mle_scheduler/job_queue.py#274\u001b\\\u001b[2m274\u001b[0m\u001b]8;;\u001b\\\n"
      ]
     },
     "metadata": {},
     "output_type": "display_data"
    }
   ],
   "source": [
    "ssh_settings[\"start_up_copy_dir\"] = True  # Whether to copy code to server\n",
    "ssh_settings[\"clean_up_remote_dir\"] = True  # Whether to delete remote_dir on exit\n",
    "\n",
    "queue = MLEQueue(resource_to_run=\"ssh-node\",\n",
    "                 job_filename=\"train.py\",\n",
    "                 config_filenames=[\"base_config_1.yaml\",\n",
    "                                   \"base_config_2.yaml\"],\n",
    "                 random_seeds=[0, 1],\n",
    "                 experiment_dir=\"logs_ssh_queue\",\n",
    "                 job_arguments={\"env_name\": \"mle-toolbox\",\n",
    "                                \"use_conda_venv\": True},\n",
    "                 ssh_settings=ssh_settings,\n",
    "                 logger_level=logging.INFO)\n",
    "\n",
    "queue.run()"
   ]
  },
  {
   "cell_type": "markdown",
   "id": "104501cd-a40c-4409-8deb-75d6514647e8",
   "metadata": {},
   "source": [
    "# Launching GCP VM-Based Jobs 🦄\n",
    "\n",
    "Finally, let's talk about how to create GCP VM-based jobs using the `mle-scheduler`. This will require you to have already setup Google Cloud SDK and to have created a GCP project and a GCS bucket. Furthermore you will have to provide you `.json` authentication key path. If you don't have one yet, have a look [here](https://cloud.google.com/docs/authentication/getting-started). Alternatively, just make sure that the environment variable `GOOGLE_APPLICATION_CREDENTIALS` is set to the right path. You have to provide the following `cloud_settings`:\n",
    "\n",
    "|| Type | Optional | Description | \n",
    "|----|:----: | :----: | ----|\n",
    "|`project_name` | `str` | ❌ | Name of your GCP project\n",
    "|`bucket_name` | `str` | ❌ | Name of your GCS bucket\n",
    "|`remote_dir` | `str` | ❌ | Name of code dir in bucket\n",
    "|`start_up_copy_dir` | `str` | ✔️/❌ | Whether to copy code to bucket\n",
    "|`clean_up_remote_dir` | `str` | ✔️/❌ | Whether to delete remote_dir on exit\n",
    "\n",
    "As for the SSH server jobs we start by copying the code repository in a GCS bucket. In order to know where to sync these files to, you will need to provide the `project_name`, `bucket_name` and the name of the code directory in the bucket. Note that later on all generated results logs will also be stored in this GCS `remote_dir`:"
   ]
  },
  {
   "cell_type": "code",
   "execution_count": 9,
   "id": "c62df95a-bc3d-4609-848e-b8455f81255f",
   "metadata": {},
   "outputs": [],
   "source": [
    "# Import utility to copy local code directory to GCS bucket\n",
    "from mle_scheduler.cloud.gcp import send_dir_gcp, copy_dir_gcp, delete_dir_gcp\n",
    "\n",
    "cloud_settings = {\n",
    "    \"project_name\": \"mle-toolbox\",  # Name of your GCP project\n",
    "    \"bucket_name\": \"mle-protocol\", # Name of your GCS bucket\n",
    "    \"remote_dir\": \"mle-code-dir\",  # Name of code dir in bucket\n",
    "}\n",
    "\n",
    "# Send config file to remote machine - independent of code base!\n",
    "send_dir_gcp(cloud_settings)"
   ]
  },
  {
   "cell_type": "markdown",
   "id": "3244832d-4076-4ebe-9f05-3e64a3c82f94",
   "metadata": {},
   "source": [
    "At VM startup each of the individual GCP VM instances will `gsync` copy the code and install a `requirements.txt` file in a fresh Python virtual environment. By default the created VMs are [`n1-high-cpu` custom VMs](https://cloud.google.com/compute/docs/general-purpose-machines#n1-high-cpu) since they allow for GPU attachment. The `N1` VMs allow for 1, 2, 4, 8, 16, 32 & 48 logical cores (x2 with hyperthreading) and up to 624 GB of memory. Right now the GCP `MLEJob` will also by default setup a `c1-deeplearning-tf-2-4-cu110-v20210414-debian-10` image from the `ml-images` family, which comes with CUDA 11.0 drivers ready to go. [In the future I plan on adding more flexibility to specify resource requests through the `mle-scheduler` and to support TPU VMs.]"
   ]
  },
  {
   "cell_type": "code",
   "execution_count": 10,
   "id": "4afd88a1-95d5-4dae-9f2a-a42ff9d74fed",
   "metadata": {},
   "outputs": [
    {
     "data": {
      "text/html": [
       "<pre style=\"white-space:pre;overflow-x:auto;line-height:normal;font-family:Menlo,'DejaVu Sans Mono',consolas,'Courier New',monospace\"><span style=\"color: #7fbfbf; text-decoration-color: #7fbfbf\">[11:51:18] </span><span style=\"color: #000080; text-decoration-color: #000080\">INFO    </span> VM Name: mle-<span style=\"color: #008080; text-decoration-color: #008080; font-weight: bold\">20211207</span>-<span style=\"color: #008080; text-decoration-color: #008080; font-weight: bold\">115103</span>-<span style=\"color: #008080; text-decoration-color: #008080; font-weight: bold\">5680</span> - Cloud job scheduled -      <a href=\"file:///Users/rob/Dropbox/core-code/mle-infrastructure/mle-scheduler/mle_scheduler/job.py\"><span style=\"color: #7f7f7f; text-decoration-color: #7f7f7f\">job.py</span></a><span style=\"color: #7f7f7f; text-decoration-color: #7f7f7f\">:</span><a href=\"file:///Users/rob/Dropbox/core-code/mle-infrastructure/mle-scheduler/mle_scheduler/job.py#133\"><span style=\"color: #7f7f7f; text-decoration-color: #7f7f7f\">133</span></a>\n",
       "                    base_config_1.yaml                                                       \n",
       "</pre>\n"
      ],
      "text/plain": [
       "\u001b[2;36m[11:51:18]\u001b[0m\u001b[2;36m \u001b[0m\u001b[34mINFO    \u001b[0m VM Name: mle-\u001b[1;36m20211207\u001b[0m-\u001b[1;36m115103\u001b[0m-\u001b[1;36m5680\u001b[0m - Cloud job scheduled -      \u001b]8;id=693192;file:///Users/rob/Dropbox/core-code/mle-infrastructure/mle-scheduler/mle_scheduler/job.py\u001b\\\u001b[2mjob.py\u001b[0m\u001b]8;;\u001b\\\u001b[2m:\u001b[0m\u001b]8;id=19668;file:///Users/rob/Dropbox/core-code/mle-infrastructure/mle-scheduler/mle_scheduler/job.py#133\u001b\\\u001b[2m133\u001b[0m\u001b]8;;\u001b\\\n",
       "                    base_config_1.yaml                                                       \n"
      ]
     },
     "metadata": {},
     "output_type": "display_data"
    },
    {
     "data": {
      "text/html": [
       "<pre style=\"white-space:pre;overflow-x:auto;line-height:normal;font-family:Menlo,'DejaVu Sans Mono',consolas,'Courier New',monospace\"><span style=\"color: #7fbfbf; text-decoration-color: #7fbfbf\">           </span><span style=\"color: #000080; text-decoration-color: #000080\">INFO    </span> VM Name: mle-<span style=\"color: #008080; text-decoration-color: #008080; font-weight: bold\">20211207</span>-<span style=\"color: #008080; text-decoration-color: #008080; font-weight: bold\">115103</span>-<span style=\"color: #008080; text-decoration-color: #008080; font-weight: bold\">5680</span> - Started monitoring -       <a href=\"file:///Users/rob/Dropbox/core-code/mle-infrastructure/mle-scheduler/mle_scheduler/job.py\"><span style=\"color: #7f7f7f; text-decoration-color: #7f7f7f\">job.py</span></a><span style=\"color: #7f7f7f; text-decoration-color: #7f7f7f\">:</span><a href=\"file:///Users/rob/Dropbox/core-code/mle-infrastructure/mle-scheduler/mle_scheduler/job.py#187\"><span style=\"color: #7f7f7f; text-decoration-color: #7f7f7f\">187</span></a>\n",
       "                    base_config_1.yaml                                                       \n",
       "</pre>\n"
      ],
      "text/plain": [
       "\u001b[2;36m          \u001b[0m\u001b[2;36m \u001b[0m\u001b[34mINFO    \u001b[0m VM Name: mle-\u001b[1;36m20211207\u001b[0m-\u001b[1;36m115103\u001b[0m-\u001b[1;36m5680\u001b[0m - Started monitoring -       \u001b]8;id=885097;file:///Users/rob/Dropbox/core-code/mle-infrastructure/mle-scheduler/mle_scheduler/job.py\u001b\\\u001b[2mjob.py\u001b[0m\u001b]8;;\u001b\\\u001b[2m:\u001b[0m\u001b]8;id=233682;file:///Users/rob/Dropbox/core-code/mle-infrastructure/mle-scheduler/mle_scheduler/job.py#187\u001b\\\u001b[2m187\u001b[0m\u001b]8;;\u001b\\\n",
       "                    base_config_1.yaml                                                       \n"
      ]
     },
     "metadata": {},
     "output_type": "display_data"
    },
    {
     "data": {
      "text/html": [
       "<pre style=\"white-space:pre;overflow-x:auto;line-height:normal;font-family:Menlo,'DejaVu Sans Mono',consolas,'Courier New',monospace\"><span style=\"color: #7fbfbf; text-decoration-color: #7fbfbf\">[11:56:29] </span><span style=\"color: #000080; text-decoration-color: #000080\">INFO    </span> VM Name: mle-<span style=\"color: #008080; text-decoration-color: #008080; font-weight: bold\">20211207</span>-<span style=\"color: #008080; text-decoration-color: #008080; font-weight: bold\">115103</span>-<span style=\"color: #008080; text-decoration-color: #008080; font-weight: bold\">5680</span> - Cloud job completed -      <a href=\"file:///Users/rob/Dropbox/core-code/mle-infrastructure/mle-scheduler/mle_scheduler/job.py\"><span style=\"color: #7f7f7f; text-decoration-color: #7f7f7f\">job.py</span></a><span style=\"color: #7f7f7f; text-decoration-color: #7f7f7f\">:</span><a href=\"file:///Users/rob/Dropbox/core-code/mle-infrastructure/mle-scheduler/mle_scheduler/job.py#192\"><span style=\"color: #7f7f7f; text-decoration-color: #7f7f7f\">192</span></a>\n",
       "                    base_config_1.yaml                                                       \n",
       "</pre>\n"
      ],
      "text/plain": [
       "\u001b[2;36m[11:56:29]\u001b[0m\u001b[2;36m \u001b[0m\u001b[34mINFO    \u001b[0m VM Name: mle-\u001b[1;36m20211207\u001b[0m-\u001b[1;36m115103\u001b[0m-\u001b[1;36m5680\u001b[0m - Cloud job completed -      \u001b]8;id=208125;file:///Users/rob/Dropbox/core-code/mle-infrastructure/mle-scheduler/mle_scheduler/job.py\u001b\\\u001b[2mjob.py\u001b[0m\u001b]8;;\u001b\\\u001b[2m:\u001b[0m\u001b]8;id=935138;file:///Users/rob/Dropbox/core-code/mle-infrastructure/mle-scheduler/mle_scheduler/job.py#192\u001b\\\u001b[2m192\u001b[0m\u001b]8;;\u001b\\\n",
       "                    base_config_1.yaml                                                       \n"
      ]
     },
     "metadata": {},
     "output_type": "display_data"
    },
    {
     "data": {
      "text/html": [
       "<pre style=\"white-space:pre;overflow-x:auto;line-height:normal;font-family:Menlo,'DejaVu Sans Mono',consolas,'Courier New',monospace\"><span style=\"color: #7fbfbf; text-decoration-color: #7fbfbf\">[11:56:34] </span><span style=\"color: #000080; text-decoration-color: #000080\">INFO    </span> VM Name: mle-<span style=\"color: #008080; text-decoration-color: #008080; font-weight: bold\">20211207</span>-<span style=\"color: #008080; text-decoration-color: #008080; font-weight: bold\">115103</span>-<span style=\"color: #008080; text-decoration-color: #008080; font-weight: bold\">5680</span> - Delete VM -                <a href=\"file:///Users/rob/Dropbox/core-code/mle-infrastructure/mle-scheduler/mle_scheduler/job.py\"><span style=\"color: #7f7f7f; text-decoration-color: #7f7f7f\">job.py</span></a><span style=\"color: #7f7f7f; text-decoration-color: #7f7f7f\">:</span><a href=\"file:///Users/rob/Dropbox/core-code/mle-infrastructure/mle-scheduler/mle_scheduler/job.py#375\"><span style=\"color: #7f7f7f; text-decoration-color: #7f7f7f\">375</span></a>\n",
       "                    base_config_1.yaml                                                       \n",
       "</pre>\n"
      ],
      "text/plain": [
       "\u001b[2;36m[11:56:34]\u001b[0m\u001b[2;36m \u001b[0m\u001b[34mINFO    \u001b[0m VM Name: mle-\u001b[1;36m20211207\u001b[0m-\u001b[1;36m115103\u001b[0m-\u001b[1;36m5680\u001b[0m - Delete VM -                \u001b]8;id=231535;file:///Users/rob/Dropbox/core-code/mle-infrastructure/mle-scheduler/mle_scheduler/job.py\u001b\\\u001b[2mjob.py\u001b[0m\u001b]8;;\u001b\\\u001b[2m:\u001b[0m\u001b]8;id=559357;file:///Users/rob/Dropbox/core-code/mle-infrastructure/mle-scheduler/mle_scheduler/job.py#375\u001b\\\u001b[2m375\u001b[0m\u001b]8;;\u001b\\\n",
       "                    base_config_1.yaml                                                       \n"
      ]
     },
     "metadata": {},
     "output_type": "display_data"
    }
   ],
   "source": [
    "job_args = {\n",
    "    \"num_gpus\": 0,  # Number of requested GPUs per job\n",
    "    \"gpu_type\": None,  # GPU requested e.g. \"nvidia-tesla-v100\"\n",
    "    \"num_logical_cores\": 1,  # Number of requested CPU cores per job\n",
    "}\n",
    "\n",
    "job = MLEJob(\n",
    "    resource_to_run=\"gcp-cloud\",\n",
    "    job_filename=\"train.py\",\n",
    "    config_filename=\"base_config_1.yaml\",\n",
    "    experiment_dir=\"logs_gcp_single\",\n",
    "    job_arguments=job_args,\n",
    "    cloud_settings=cloud_settings,\n",
    "    logger_level=logging.INFO\n",
    ")\n",
    "\n",
    "job.run()\n",
    "\n",
    "# Copy over the results from the SSH server\n",
    "copy_dir_gcp(cloud_settings, remote_dir=\"mle-code-dir/logs_gcp_single\")\n",
    "\n",
    "# Delete the code directory on the SSH server\n",
    "delete_dir_gcp(cloud_settings)"
   ]
  },
  {
   "cell_type": "markdown",
   "id": "47a83178-3837-4c3b-a90a-4c491c007401",
   "metadata": {},
   "source": [
    "The `MLEJob` instance will create a GCP VM using the SDK syntax and automatically execute a command which looks like this:\n",
    "\n",
    "```\n",
    "gcloud compute instances create <job_name> --preemptible --zone=us-west1-a \\\n",
    "    --custom-cpu=2 \\\n",
    "    --custom-memory=6144MB \\\n",
    "    --custom-vm-type=n1 \\\n",
    "    --image=c1-deeplearning-tf-2-4-cu110-v20210414-debian-10 \\\n",
    "    --image-project=ml-images \\\n",
    "    --metadata-from-file=startup-script=<job_name>-<datetime>-startup.sh \\\n",
    "    --scopes=cloud-platform,storage-full \\\n",
    "    --boot-disk-size=128GB \\\n",
    "    --boot-disk-type=pd-standard \\\n",
    "    --no-user-output-enabled \\\n",
    "    --verbosity error\n",
    "```\n",
    "\n",
    "Again, for a single job you can copy over the results and delete the code stored in GCS bucket using `copy_dir_gcp` and `delete_dir_gcp`. The `MLEQueue` works as before for the SSH server setting and will take care of copying and cleaning up the code directory once all jobs have terminated successfully. Note that spawning many jobs simultaneously may be prohibited by your personal resource quota."
   ]
  },
  {
   "cell_type": "code",
   "execution_count": 11,
   "id": "2b6f48c6-d4fc-4888-b7a1-f0c6a8742a7c",
   "metadata": {},
   "outputs": [
    {
     "data": {
      "text/html": [
       "<pre style=\"white-space:pre;overflow-x:auto;line-height:normal;font-family:Menlo,'DejaVu Sans Mono',consolas,'Courier New',monospace\"><span style=\"color: #7fbfbf; text-decoration-color: #7fbfbf\">[11:56:54] </span><span style=\"color: #000080; text-decoration-color: #000080\">INFO    </span> Copied code directory to GCS bucket                       <a href=\"file:///Users/rob/Dropbox/core-code/mle-infrastructure/mle-scheduler/mle_scheduler/job_queue.py\"><span style=\"color: #7f7f7f; text-decoration-color: #7f7f7f\">job_queue.py</span></a><span style=\"color: #7f7f7f; text-decoration-color: #7f7f7f\">:</span><a href=\"file:///Users/rob/Dropbox/core-code/mle-infrastructure/mle-scheduler/mle_scheduler/job_queue.py#82\"><span style=\"color: #7f7f7f; text-decoration-color: #7f7f7f\">82</span></a>\n",
       "</pre>\n"
      ],
      "text/plain": [
       "\u001b[2;36m[11:56:54]\u001b[0m\u001b[2;36m \u001b[0m\u001b[34mINFO    \u001b[0m Copied code directory to GCS bucket                       \u001b]8;id=988881;file:///Users/rob/Dropbox/core-code/mle-infrastructure/mle-scheduler/mle_scheduler/job_queue.py\u001b\\\u001b[2mjob_queue.py\u001b[0m\u001b]8;;\u001b\\\u001b[2m:\u001b[0m\u001b]8;id=32387;file:///Users/rob/Dropbox/core-code/mle-infrastructure/mle-scheduler/mle_scheduler/job_queue.py#82\u001b\\\u001b[2m82\u001b[0m\u001b]8;;\u001b\\\n"
      ]
     },
     "metadata": {},
     "output_type": "display_data"
    },
    {
     "data": {
      "text/html": [
       "<pre style=\"white-space:pre;overflow-x:auto;line-height:normal;font-family:Menlo,'DejaVu Sans Mono',consolas,'Courier New',monospace\"><span style=\"color: #7fbfbf; text-decoration-color: #7fbfbf\">           </span><span style=\"color: #000080; text-decoration-color: #000080\">INFO    </span> Queued: gcp-cloud - <span style=\"color: #008080; text-decoration-color: #008080; font-weight: bold\">2</span> seeds x <span style=\"color: #008080; text-decoration-color: #008080; font-weight: bold\">2</span> configs                  <a href=\"file:///Users/rob/Dropbox/core-code/mle-infrastructure/mle-scheduler/mle_scheduler/job_queue.py\"><span style=\"color: #7f7f7f; text-decoration-color: #7f7f7f\">job_queue.py</span></a><span style=\"color: #7f7f7f; text-decoration-color: #7f7f7f\">:</span><a href=\"file:///Users/rob/Dropbox/core-code/mle-infrastructure/mle-scheduler/mle_scheduler/job_queue.py#143\"><span style=\"color: #7f7f7f; text-decoration-color: #7f7f7f\">143</span></a>\n",
       "</pre>\n"
      ],
      "text/plain": [
       "\u001b[2;36m          \u001b[0m\u001b[2;36m \u001b[0m\u001b[34mINFO    \u001b[0m Queued: gcp-cloud - \u001b[1;36m2\u001b[0m seeds x \u001b[1;36m2\u001b[0m configs                  \u001b]8;id=304293;file:///Users/rob/Dropbox/core-code/mle-infrastructure/mle-scheduler/mle_scheduler/job_queue.py\u001b\\\u001b[2mjob_queue.py\u001b[0m\u001b]8;;\u001b\\\u001b[2m:\u001b[0m\u001b]8;id=815569;file:///Users/rob/Dropbox/core-code/mle-infrastructure/mle-scheduler/mle_scheduler/job_queue.py#143\u001b\\\u001b[2m143\u001b[0m\u001b]8;;\u001b\\\n"
      ]
     },
     "metadata": {},
     "output_type": "display_data"
    },
    {
     "data": {
      "text/html": [
       "<pre style=\"white-space:pre;overflow-x:auto;line-height:normal;font-family:Menlo,'DejaVu Sans Mono',consolas,'Courier New',monospace\"><span style=\"color: #7fbfbf; text-decoration-color: #7fbfbf\">[11:57:49] </span><span style=\"color: #000080; text-decoration-color: #000080\">INFO    </span> Launched: gcp-cloud - Set of <span style=\"color: #008080; text-decoration-color: #008080; font-weight: bold\">4</span>/<span style=\"color: #008080; text-decoration-color: #008080; font-weight: bold\">4</span> Jobs                    <a href=\"file:///Users/rob/Dropbox/core-code/mle-infrastructure/mle-scheduler/mle_scheduler/job_queue.py\"><span style=\"color: #7f7f7f; text-decoration-color: #7f7f7f\">job_queue.py</span></a><span style=\"color: #7f7f7f; text-decoration-color: #7f7f7f\">:</span><a href=\"file:///Users/rob/Dropbox/core-code/mle-infrastructure/mle-scheduler/mle_scheduler/job_queue.py#161\"><span style=\"color: #7f7f7f; text-decoration-color: #7f7f7f\">161</span></a>\n",
       "</pre>\n"
      ],
      "text/plain": [
       "\u001b[2;36m[11:57:49]\u001b[0m\u001b[2;36m \u001b[0m\u001b[34mINFO    \u001b[0m Launched: gcp-cloud - Set of \u001b[1;36m4\u001b[0m/\u001b[1;36m4\u001b[0m Jobs                    \u001b]8;id=65279;file:///Users/rob/Dropbox/core-code/mle-infrastructure/mle-scheduler/mle_scheduler/job_queue.py\u001b\\\u001b[2mjob_queue.py\u001b[0m\u001b]8;;\u001b\\\u001b[2m:\u001b[0m\u001b]8;id=581303;file:///Users/rob/Dropbox/core-code/mle-infrastructure/mle-scheduler/mle_scheduler/job_queue.py#161\u001b\\\u001b[2m161\u001b[0m\u001b]8;;\u001b\\\n"
      ]
     },
     "metadata": {},
     "output_type": "display_data"
    },
    {
     "data": {
      "application/vnd.jupyter.widget-view+json": {
       "model_id": "dac7c7143e094464ab8627956d857bd6",
       "version_major": 2,
       "version_minor": 0
      },
      "text/plain": [
       "Output()"
      ]
     },
     "metadata": {},
     "output_type": "display_data"
    },
    {
     "data": {
      "text/html": [
       "<pre style=\"white-space:pre;overflow-x:auto;line-height:normal;font-family:Menlo,'DejaVu Sans Mono',consolas,'Courier New',monospace\">  <span style=\"color: #000080; text-decoration-color: #000080; font-weight: bold\">MLEQueue - gcp-cloud •</span> 4/4 Jobs <span style=\"color: #729c1f; text-decoration-color: #729c1f\">━━━━━━━━━━━━━━━━━━━━━━━━━━━</span> <span style=\"color: #800080; text-decoration-color: #800080\">100% •</span> <span style=\"color: #808000; text-decoration-color: #808000\">0:05:01</span> ⌛\n",
       "</pre>\n"
      ],
      "text/plain": [
       "  \u001b[1;34mMLEQueue - gcp-cloud •\u001b[0m 4/4 Jobs \u001b[38;2;114;156;31m━━━━━━━━━━━━━━━━━━━━━━━━━━━\u001b[0m \u001b[35m100% •\u001b[0m \u001b[33m0:05:01\u001b[0m ⌛\n"
      ]
     },
     "metadata": {},
     "output_type": "display_data"
    },
    {
     "data": {
      "text/html": [
       "<pre style=\"white-space:pre;overflow-x:auto;line-height:normal;font-family:Menlo,'DejaVu Sans Mono',consolas,'Courier New',monospace\">\n",
       "</pre>\n"
      ],
      "text/plain": [
       "\n"
      ]
     },
     "metadata": {},
     "output_type": "display_data"
    },
    {
     "data": {
      "text/html": [
       "<pre style=\"white-space:pre;overflow-x:auto;line-height:normal;font-family:Menlo,'DejaVu Sans Mono',consolas,'Courier New',monospace\"><span style=\"color: #7fbfbf; text-decoration-color: #7fbfbf\">[12:02:51] </span><span style=\"color: #000080; text-decoration-color: #000080\">INFO    </span> Completed: gcp-cloud - <span style=\"color: #008080; text-decoration-color: #008080; font-weight: bold\">4</span>/<span style=\"color: #008080; text-decoration-color: #008080; font-weight: bold\">4</span> Jobs                          <a href=\"file:///Users/rob/Dropbox/core-code/mle-infrastructure/mle-scheduler/mle_scheduler/job_queue.py\"><span style=\"color: #7f7f7f; text-decoration-color: #7f7f7f\">job_queue.py</span></a><span style=\"color: #7f7f7f; text-decoration-color: #7f7f7f\">:</span><a href=\"file:///Users/rob/Dropbox/core-code/mle-infrastructure/mle-scheduler/mle_scheduler/job_queue.py#256\"><span style=\"color: #7f7f7f; text-decoration-color: #7f7f7f\">256</span></a>\n",
       "</pre>\n"
      ],
      "text/plain": [
       "\u001b[2;36m[12:02:51]\u001b[0m\u001b[2;36m \u001b[0m\u001b[34mINFO    \u001b[0m Completed: gcp-cloud - \u001b[1;36m4\u001b[0m/\u001b[1;36m4\u001b[0m Jobs                          \u001b]8;id=520569;file:///Users/rob/Dropbox/core-code/mle-infrastructure/mle-scheduler/mle_scheduler/job_queue.py\u001b\\\u001b[2mjob_queue.py\u001b[0m\u001b]8;;\u001b\\\u001b[2m:\u001b[0m\u001b]8;id=472323;file:///Users/rob/Dropbox/core-code/mle-infrastructure/mle-scheduler/mle_scheduler/job_queue.py#256\u001b\\\u001b[2m256\u001b[0m\u001b]8;;\u001b\\\n"
      ]
     },
     "metadata": {},
     "output_type": "display_data"
    },
    {
     "data": {
      "text/html": [
       "<pre style=\"white-space:pre;overflow-x:auto;line-height:normal;font-family:Menlo,'DejaVu Sans Mono',consolas,'Courier New',monospace\"><span style=\"color: #7fbfbf; text-decoration-color: #7fbfbf\">[12:02:57] </span><span style=\"color: #000080; text-decoration-color: #000080\">INFO    </span> Pulled cloud results - logs_gcp_queue                    <a href=\"file:///Users/rob/Dropbox/core-code/mle-infrastructure/mle-scheduler/mle_scheduler/job_queue.py\"><span style=\"color: #7f7f7f; text-decoration-color: #7f7f7f\">job_queue.py</span></a><span style=\"color: #7f7f7f; text-decoration-color: #7f7f7f\">:</span><a href=\"file:///Users/rob/Dropbox/core-code/mle-infrastructure/mle-scheduler/mle_scheduler/job_queue.py#285\"><span style=\"color: #7f7f7f; text-decoration-color: #7f7f7f\">285</span></a>\n",
       "</pre>\n"
      ],
      "text/plain": [
       "\u001b[2;36m[12:02:57]\u001b[0m\u001b[2;36m \u001b[0m\u001b[34mINFO    \u001b[0m Pulled cloud results - logs_gcp_queue                    \u001b]8;id=17925;file:///Users/rob/Dropbox/core-code/mle-infrastructure/mle-scheduler/mle_scheduler/job_queue.py\u001b\\\u001b[2mjob_queue.py\u001b[0m\u001b]8;;\u001b\\\u001b[2m:\u001b[0m\u001b]8;id=941130;file:///Users/rob/Dropbox/core-code/mle-infrastructure/mle-scheduler/mle_scheduler/job_queue.py#285\u001b\\\u001b[2m285\u001b[0m\u001b]8;;\u001b\\\n"
      ]
     },
     "metadata": {},
     "output_type": "display_data"
    },
    {
     "data": {
      "text/html": [
       "<pre style=\"white-space:pre;overflow-x:auto;line-height:normal;font-family:Menlo,'DejaVu Sans Mono',consolas,'Courier New',monospace\"><span style=\"color: #7fbfbf; text-decoration-color: #7fbfbf\">[12:03:06] </span><span style=\"color: #000080; text-decoration-color: #000080\">INFO    </span> Deleted cloud directory - mle-code-dir                   <a href=\"file:///Users/rob/Dropbox/core-code/mle-infrastructure/mle-scheduler/mle_scheduler/job_queue.py\"><span style=\"color: #7f7f7f; text-decoration-color: #7f7f7f\">job_queue.py</span></a><span style=\"color: #7f7f7f; text-decoration-color: #7f7f7f\">:</span><a href=\"file:///Users/rob/Dropbox/core-code/mle-infrastructure/mle-scheduler/mle_scheduler/job_queue.py#290\"><span style=\"color: #7f7f7f; text-decoration-color: #7f7f7f\">290</span></a>\n",
       "</pre>\n"
      ],
      "text/plain": [
       "\u001b[2;36m[12:03:06]\u001b[0m\u001b[2;36m \u001b[0m\u001b[34mINFO    \u001b[0m Deleted cloud directory - mle-code-dir                   \u001b]8;id=434460;file:///Users/rob/Dropbox/core-code/mle-infrastructure/mle-scheduler/mle_scheduler/job_queue.py\u001b\\\u001b[2mjob_queue.py\u001b[0m\u001b]8;;\u001b\\\u001b[2m:\u001b[0m\u001b]8;id=853831;file:///Users/rob/Dropbox/core-code/mle-infrastructure/mle-scheduler/mle_scheduler/job_queue.py#290\u001b\\\u001b[2m290\u001b[0m\u001b]8;;\u001b\\\n"
      ]
     },
     "metadata": {},
     "output_type": "display_data"
    }
   ],
   "source": [
    "cloud_settings[\"start_up_copy_dir\"] = True\n",
    "cloud_settings[\"clean_up_remote_dir\"] = True\n",
    "\n",
    "queue = MLEQueue(\n",
    "    resource_to_run=\"gcp-cloud\",\n",
    "    job_filename=\"train.py\",\n",
    "    config_filenames=[\"base_config_1.yaml\", \"base_config_2.yaml\"],\n",
    "    random_seeds=[0, 1],\n",
    "    experiment_dir=\"logs_gcp_queue\",\n",
    "    job_arguments=job_args,\n",
    "    cloud_settings=cloud_settings,\n",
    "    logger_level=logging.INFO\n",
    ")\n",
    "queue.run()"
   ]
  },
  {
   "cell_type": "markdown",
   "id": "f62303fa-2961-423c-ac52-22c19e9deeea",
   "metadata": {},
   "source": [
    "# Slack Notifications for Real-Time Queue Status 📮\n",
    "\n",
    "You can also get a Slack Bot notification of the current status of the queue. This is powered by the [`slack-clusterbot`](https://github.com/sprekelerlab/slack-clusterbot) package (simply `pip install` it) and you can follow these instructions to setup a bot for your favorite workspace [here](https://github.com/sprekelerlab/slack-clusterbot/wiki/Installation). After you have obtained your authentication token it is as simple as providing the token and your user name as inputs. Below you can find the slack chat output:"
   ]
  },
  {
   "cell_type": "code",
   "execution_count": 12,
   "id": "26418d40-b771-4ed1-ba50-0e5826bcfc8c",
   "metadata": {},
   "outputs": [
    {
     "data": {
      "application/vnd.jupyter.widget-view+json": {
       "model_id": "72f3deecea3248e58e3f0ec1887ae29f",
       "version_major": 2,
       "version_minor": 0
      },
      "text/plain": [
       "Output()"
      ]
     },
     "metadata": {},
     "output_type": "display_data"
    },
    {
     "data": {
      "text/html": [
       "<pre style=\"white-space:pre;overflow-x:auto;line-height:normal;font-family:Menlo,'DejaVu Sans Mono',consolas,'Courier New',monospace\">  <span style=\"color: #000080; text-decoration-color: #000080; font-weight: bold\">MLEQueue - local •</span> 4/4 Jobs <span style=\"color: #729c1f; text-decoration-color: #729c1f\">━━━━━━━━━━━━━━━━━━━━━━━━━━━</span> <span style=\"color: #800080; text-decoration-color: #800080\">100% •</span> <span style=\"color: #808000; text-decoration-color: #808000\">0:00:01</span> ⌛\n",
       "</pre>\n"
      ],
      "text/plain": [
       "  \u001b[1;34mMLEQueue - local •\u001b[0m 4/4 Jobs \u001b[38;2;114;156;31m━━━━━━━━━━━━━━━━━━━━━━━━━━━\u001b[0m \u001b[35m100% •\u001b[0m \u001b[33m0:00:01\u001b[0m ⌛\n"
      ]
     },
     "metadata": {},
     "output_type": "display_data"
    },
    {
     "data": {
      "text/html": [
       "<pre style=\"white-space:pre;overflow-x:auto;line-height:normal;font-family:Menlo,'DejaVu Sans Mono',consolas,'Courier New',monospace\">\n",
       "</pre>\n"
      ],
      "text/plain": [
       "\n"
      ]
     },
     "metadata": {},
     "output_type": "display_data"
    }
   ],
   "source": [
    "queue = MLEQueue(resource_to_run=\"local\",\n",
    "                 job_filename=\"train.py\",\n",
    "                 config_filenames=[\"base_config_1.yaml\",\n",
    "                                   \"base_config_2.yaml\"],\n",
    "                 random_seeds=[0, 1],\n",
    "                 experiment_dir=\"logs_queue\",\n",
    "                 job_arguments={\"env_name\": \"mle-toolbox\"},\n",
    "                 use_slack_bot=True,\n",
    "                 slack_user_name=os.environ[\"SLACK_USER_NAME\"],\n",
    "                 slack_auth_token=os.environ[\"SLACK_AUTH_TOKEN\"])\n",
    "queue.run()"
   ]
  },
  {
   "cell_type": "markdown",
   "id": "34745512-a550-4f01-839f-e2eeb4237e7e",
   "metadata": {},
   "source": [
    "<a href=\"https://github.com/mle-infrastructure/mle-scheduler/blob/main/docs/slackbot_output.png?raw=true\"><img src=\"https://github.com/mle-infrastructure/mle-scheduler/blob/main/docs/slackbot_output.png?raw=true\" width=\"600\" align=\"center\" /></a>"
   ]
  },
  {
   "cell_type": "markdown",
   "id": "6bce58fc-7f08-4226-a6a9-e5cbee9896a9",
   "metadata": {},
   "source": [
    "# Automatic Log Merging & Plotting with `mle-logging` 📖\n",
    "\n",
    "The [`mle-scheduler`](https://github.com/mle-infrastructure/mle-scheduler) is part of the broader [`mle-infrastructure`](https://github.com/mle-infrastructure). It therefore has some synergetic features with other packages such as the already mentioned [`mle-logging`](https://github.com/mle-infrastructure/mle-logging) or [`mle-hyperopt`](https://github.com/mle-infrastructure/mle-hyperopt). One of such features is automatic log aggregation after successful completion of all random seeds in `MLEQueue`. All you have to do is supply the option `automerge_seeds` or `automerge_configs`: "
   ]
  },
  {
   "cell_type": "code",
   "execution_count": 6,
   "id": "f9e0f444-e7d4-4f42-a32a-f50351cdb052",
   "metadata": {},
   "outputs": [
    {
     "data": {
      "text/html": [
       "<pre style=\"white-space:pre;overflow-x:auto;line-height:normal;font-family:Menlo,'DejaVu Sans Mono',consolas,'Courier New',monospace\"><span style=\"color: #7fbfbf; text-decoration-color: #7fbfbf\">[14:05:57] </span><span style=\"color: #000080; text-decoration-color: #000080\">INFO    </span> Queued: local - <span style=\"color: #008080; text-decoration-color: #008080; font-weight: bold\">2</span> seeds x <span style=\"color: #008080; text-decoration-color: #008080; font-weight: bold\">2</span> configs                      <a href=\"file:///Users/rob/anaconda3/envs/mle-toolbox/lib/python3.9/site-packages/mle_scheduler/job_queue.py\"><span style=\"color: #7f7f7f; text-decoration-color: #7f7f7f\">job_queue.py</span></a><span style=\"color: #7f7f7f; text-decoration-color: #7f7f7f\">:</span><a href=\"file:///Users/rob/anaconda3/envs/mle-toolbox/lib/python3.9/site-packages/mle_scheduler/job_queue.py#162\"><span style=\"color: #7f7f7f; text-decoration-color: #7f7f7f\">162</span></a>\n",
       "</pre>\n"
      ],
      "text/plain": [
       "\u001b[2;36m[14:05:57]\u001b[0m\u001b[2;36m \u001b[0m\u001b[34mINFO    \u001b[0m Queued: local - \u001b[1;36m2\u001b[0m seeds x \u001b[1;36m2\u001b[0m configs                      \u001b]8;id=46131;file:///Users/rob/anaconda3/envs/mle-toolbox/lib/python3.9/site-packages/mle_scheduler/job_queue.py\u001b\\\u001b[2mjob_queue.py\u001b[0m\u001b]8;;\u001b\\\u001b[2m:\u001b[0m\u001b]8;id=135363;file:///Users/rob/anaconda3/envs/mle-toolbox/lib/python3.9/site-packages/mle_scheduler/job_queue.py#162\u001b\\\u001b[2m162\u001b[0m\u001b]8;;\u001b\\\n"
      ]
     },
     "metadata": {},
     "output_type": "display_data"
    },
    {
     "data": {
      "text/html": [
       "<pre style=\"white-space:pre;overflow-x:auto;line-height:normal;font-family:Menlo,'DejaVu Sans Mono',consolas,'Courier New',monospace\"><span style=\"color: #7fbfbf; text-decoration-color: #7fbfbf\">           </span><span style=\"color: #000080; text-decoration-color: #000080\">INFO    </span> Launched: local - Set of <span style=\"color: #008080; text-decoration-color: #008080; font-weight: bold\">4</span>/<span style=\"color: #008080; text-decoration-color: #008080; font-weight: bold\">4</span> Jobs                        <a href=\"file:///Users/rob/anaconda3/envs/mle-toolbox/lib/python3.9/site-packages/mle_scheduler/job_queue.py\"><span style=\"color: #7f7f7f; text-decoration-color: #7f7f7f\">job_queue.py</span></a><span style=\"color: #7f7f7f; text-decoration-color: #7f7f7f\">:</span><a href=\"file:///Users/rob/anaconda3/envs/mle-toolbox/lib/python3.9/site-packages/mle_scheduler/job_queue.py#182\"><span style=\"color: #7f7f7f; text-decoration-color: #7f7f7f\">182</span></a>\n",
       "</pre>\n"
      ],
      "text/plain": [
       "\u001b[2;36m          \u001b[0m\u001b[2;36m \u001b[0m\u001b[34mINFO    \u001b[0m Launched: local - Set of \u001b[1;36m4\u001b[0m/\u001b[1;36m4\u001b[0m Jobs                        \u001b]8;id=245847;file:///Users/rob/anaconda3/envs/mle-toolbox/lib/python3.9/site-packages/mle_scheduler/job_queue.py\u001b\\\u001b[2mjob_queue.py\u001b[0m\u001b]8;;\u001b\\\u001b[2m:\u001b[0m\u001b]8;id=592831;file:///Users/rob/anaconda3/envs/mle-toolbox/lib/python3.9/site-packages/mle_scheduler/job_queue.py#182\u001b\\\u001b[2m182\u001b[0m\u001b]8;;\u001b\\\n"
      ]
     },
     "metadata": {},
     "output_type": "display_data"
    },
    {
     "data": {
      "application/vnd.jupyter.widget-view+json": {
       "model_id": "7e070ba38a4b47979e1ae735dfb3859d",
       "version_major": 2,
       "version_minor": 0
      },
      "text/plain": [
       "Output()"
      ]
     },
     "metadata": {},
     "output_type": "display_data"
    },
    {
     "data": {
      "text/html": [
       "<pre style=\"white-space:pre;overflow-x:auto;line-height:normal;font-family:Menlo,'DejaVu Sans Mono',consolas,'Courier New',monospace\"></pre>\n"
      ],
      "text/plain": []
     },
     "metadata": {},
     "output_type": "display_data"
    },
    {
     "data": {
      "text/html": [
       "<pre style=\"white-space:pre;overflow-x:auto;line-height:normal;font-family:Menlo,'DejaVu Sans Mono',consolas,'Courier New',monospace\">\n",
       "</pre>\n"
      ],
      "text/plain": [
       "\n"
      ]
     },
     "metadata": {},
     "output_type": "display_data"
    },
    {
     "data": {
      "text/html": [
       "<pre style=\"white-space:pre;overflow-x:auto;line-height:normal;font-family:Menlo,'DejaVu Sans Mono',consolas,'Courier New',monospace\"><span style=\"color: #7fbfbf; text-decoration-color: #7fbfbf\">[14:05:58] </span><span style=\"color: #000080; text-decoration-color: #000080\">INFO    </span> Completed: local - <span style=\"color: #008080; text-decoration-color: #008080; font-weight: bold\">4</span>/<span style=\"color: #008080; text-decoration-color: #008080; font-weight: bold\">4</span> Jobs                              <a href=\"file:///Users/rob/anaconda3/envs/mle-toolbox/lib/python3.9/site-packages/mle_scheduler/job_queue.py\"><span style=\"color: #7f7f7f; text-decoration-color: #7f7f7f\">job_queue.py</span></a><span style=\"color: #7f7f7f; text-decoration-color: #7f7f7f\">:</span><a href=\"file:///Users/rob/anaconda3/envs/mle-toolbox/lib/python3.9/site-packages/mle_scheduler/job_queue.py#283\"><span style=\"color: #7f7f7f; text-decoration-color: #7f7f7f\">283</span></a>\n",
       "</pre>\n"
      ],
      "text/plain": [
       "\u001b[2;36m[14:05:58]\u001b[0m\u001b[2;36m \u001b[0m\u001b[34mINFO    \u001b[0m Completed: local - \u001b[1;36m4\u001b[0m/\u001b[1;36m4\u001b[0m Jobs                              \u001b]8;id=718490;file:///Users/rob/anaconda3/envs/mle-toolbox/lib/python3.9/site-packages/mle_scheduler/job_queue.py\u001b\\\u001b[2mjob_queue.py\u001b[0m\u001b]8;;\u001b\\\u001b[2m:\u001b[0m\u001b]8;id=507248;file:///Users/rob/anaconda3/envs/mle-toolbox/lib/python3.9/site-packages/mle_scheduler/job_queue.py#283\u001b\\\u001b[2m283\u001b[0m\u001b]8;;\u001b\\\n"
      ]
     },
     "metadata": {},
     "output_type": "display_data"
    },
    {
     "name": "stderr",
     "output_type": "stream",
     "text": [
      "/Users/rob/anaconda3/envs/mle-toolbox/lib/python3.9/site-packages/numpy/lib/function_base.py:4650: UserWarning: Warning: 'partition' will ignore the 'mask' of the MaskedArray.\n",
      "  arr.partition(\n"
     ]
    },
    {
     "data": {
      "text/html": [
       "<pre style=\"white-space:pre;overflow-x:auto;line-height:normal;font-family:Menlo,'DejaVu Sans Mono',consolas,'Courier New',monospace\"><span style=\"color: #7fbfbf; text-decoration-color: #7fbfbf\">           </span><span style=\"color: #000080; text-decoration-color: #000080\">INFO    </span> Merged config logs for different directories             <a href=\"file:///Users/rob/anaconda3/envs/mle-toolbox/lib/python3.9/site-packages/mle_scheduler/job_queue.py\"><span style=\"color: #7f7f7f; text-decoration-color: #7f7f7f\">job_queue.py</span></a><span style=\"color: #7f7f7f; text-decoration-color: #7f7f7f\">:</span><a href=\"file:///Users/rob/anaconda3/envs/mle-toolbox/lib/python3.9/site-packages/mle_scheduler/job_queue.py#326\"><span style=\"color: #7f7f7f; text-decoration-color: #7f7f7f\">326</span></a>\n",
       "</pre>\n"
      ],
      "text/plain": [
       "\u001b[2;36m          \u001b[0m\u001b[2;36m \u001b[0m\u001b[34mINFO    \u001b[0m Merged config logs for different directories             \u001b]8;id=940234;file:///Users/rob/anaconda3/envs/mle-toolbox/lib/python3.9/site-packages/mle_scheduler/job_queue.py\u001b\\\u001b[2mjob_queue.py\u001b[0m\u001b]8;;\u001b\\\u001b[2m:\u001b[0m\u001b]8;id=826019;file:///Users/rob/anaconda3/envs/mle-toolbox/lib/python3.9/site-packages/mle_scheduler/job_queue.py#326\u001b\\\u001b[2m326\u001b[0m\u001b]8;;\u001b\\\n"
      ]
     },
     "metadata": {},
     "output_type": "display_data"
    }
   ],
   "source": [
    "queue = MLEQueue(resource_to_run=\"local\",\n",
    "                 job_filename=\"train.py\",\n",
    "                 config_filenames=[\"base_config_1.yaml\",\n",
    "                                   \"base_config_2.yaml\"],\n",
    "                 random_seeds=[0, 2],\n",
    "                 experiment_dir=\"logs_merge\",\n",
    "                 automerge_configs=True,\n",
    "                 logger_level=logging.INFO)\n",
    "queue.run()"
   ]
  },
  {
   "cell_type": "code",
   "execution_count": 7,
   "id": "5da52349",
   "metadata": {},
   "outputs": [
    {
     "data": {
      "text/plain": [
       "DotMap(config_dict={'lrate': 0.1, 'batch_size': 2, 'arch': 'cnn'}, config_fname='logs_merge/base_config_2/base_config_2.yaml', eval_id='base_config_2', experiment_dir='logs_merge/base_config_2', log_paths=['logs_merge/base_config_2/logs/log_seed_0.hdf5', 'logs_merge/base_config_2/logs/log_seed_2.hdf5'], model_type='no-model-type', seeds=[0, 2])"
      ]
     },
     "execution_count": 7,
     "metadata": {},
     "output_type": "execute_result"
    }
   ],
   "source": [
    "queue.log.base_config_2.meta"
   ]
  },
  {
   "cell_type": "markdown",
   "id": "048ced8c-d2be-4fb1-bfdb-a5e5be24e8d1",
   "metadata": {},
   "source": [
    "You can then easily load and visualize the results as follows:"
   ]
  },
  {
   "cell_type": "code",
   "execution_count": 8,
   "id": "8d18903d-d0a8-49d1-a741-d03d3736ea7e",
   "metadata": {},
   "outputs": [
    {
     "name": "stderr",
     "output_type": "stream",
     "text": [
      "<frozen importlib._bootstrap>:228: RuntimeWarning: scipy._lib.messagestream.MessageStream size changed, may indicate binary incompatibility. Expected 56 from C header, got 64 from PyObject\n"
     ]
    },
    {
     "data": {
      "text/plain": [
       "(<Figure size 648x432 with 1 Axes>,\n",
       " <Axes: title={'center': 'train_loss, test_loss'}, xlabel='num_epochs', ylabel='train_loss, test_loss'>)"
      ]
     },
     "execution_count": 8,
     "metadata": {},
     "output_type": "execute_result"
    },
    {
     "data": {
      "image/png": "[encoded data removed]",
      "text/plain": [
       "<Figure size 648x432 with 1 Axes>"
      ]
     },
     "metadata": {
      "image/png": {
       "height": 423,
       "width": 640
      },
      "needs_background": "light"
     },
     "output_type": "display_data"
    }
   ],
   "source": [
    "from mle_logging import load_log\n",
    "log = load_log(f\"logs_merge/base_config_1\")\n",
    "log.plot([\"train_loss\", \"test_loss\"])"
   ]
  },
  {
   "cell_type": "markdown",
   "id": "533fe36d-4602-492d-bc5f-4297e38c0e9e",
   "metadata": {},
   "source": [
    "# Search Jobs with `mle-hyperopt` Configurations 🚂"
   ]
  },
  {
   "cell_type": "markdown",
   "id": "669cf107-e773-4007-b309-52eecca1527b",
   "metadata": {},
   "source": [
    "Finally, `mle-scheduler` integrates smoothly with the hyperparameter search tool `mle-hyperopt`. After defining a search strategy, `mle-hyperopt` allows us to get a set of candidate hyperparameters and to export them as configuration files in one go:"
   ]
  },
  {
   "cell_type": "code",
   "execution_count": 9,
   "id": "adb66ba4-ce5c-40c2-81c9-d438adf022aa",
   "metadata": {},
   "outputs": [
    {
     "name": "stdout",
     "output_type": "stream",
     "text": [
      "MLE-Hyperopt Stored Configurations: ['eval_0.yaml', 'eval_1.yaml']\n"
     ]
    }
   ],
   "source": [
    "try:\n",
    "    import mle_hyperopt\n",
    "except:\n",
    "    !pip install -q mle-hyperopt\n",
    "    import mle_hyperopt\n",
    "\n",
    "from mle_hyperopt import RandomSearch\n",
    "\n",
    "# Instantiate random search class\n",
    "strategy = RandomSearch(real={\"lrate\": {\"begin\": 0.1,\n",
    "                                        \"end\": 0.5,\n",
    "                                        \"prior\": \"log-uniform\"}},\n",
    "                        integer={\"batch_size\": {\"begin\": 1,\n",
    "                                                \"end\": 5,\n",
    "                                                \"prior\": \"uniform\"}},\n",
    "                        categorical={\"arch\": [\"mlp\", \"cnn\"]})\n",
    "\n",
    "# Simple ask - eval - tell API\n",
    "configs, config_fnames = strategy.ask(2, store=True)\n",
    "print(f\"MLE-Hyperopt Stored Configurations: {config_fnames}\")"
   ]
  },
  {
   "cell_type": "markdown",
   "id": "c8877169-8b2a-4760-8327-1e0affcc6ce0",
   "metadata": {},
   "source": [
    "Next we simply forward the configuration filenames to the `MLEQueue` and voilà we have a batch of search configurations running:"
   ]
  },
  {
   "cell_type": "code",
   "execution_count": 14,
   "id": "3fea5b65-ee26-42a7-bf35-03addd3ec8ec",
   "metadata": {},
   "outputs": [
    {
     "data": {
      "application/vnd.jupyter.widget-view+json": {
       "model_id": "ec410306461948b0b6b2a72c0155a507",
       "version_major": 2,
       "version_minor": 0
      },
      "text/plain": [
       "Output()"
      ]
     },
     "metadata": {},
     "output_type": "display_data"
    },
    {
     "data": {
      "text/html": [
       "<pre style=\"white-space:pre;overflow-x:auto;line-height:normal;font-family:Menlo,'DejaVu Sans Mono',consolas,'Courier New',monospace\"></pre>\n"
      ],
      "text/plain": []
     },
     "metadata": {},
     "output_type": "display_data"
    },
    {
     "data": {
      "text/html": [
       "<pre style=\"white-space:pre;overflow-x:auto;line-height:normal;font-family:Menlo,'DejaVu Sans Mono',consolas,'Courier New',monospace\">\n",
       "</pre>\n"
      ],
      "text/plain": [
       "\n"
      ]
     },
     "metadata": {},
     "output_type": "display_data"
    },
    {
     "name": "stderr",
     "output_type": "stream",
     "text": [
      "/Users/rob/anaconda3/envs/mle-toolbox/lib/python3.9/site-packages/numpy/lib/function_base.py:4650: UserWarning: Warning: 'partition' will ignore the 'mask' of the MaskedArray.\n",
      "  arr.partition(\n"
     ]
    }
   ],
   "source": [
    "queue = MLEQueue(resource_to_run=\"local\",\n",
    "                 job_filename=\"train.py\",\n",
    "                 config_filenames=config_fnames,\n",
    "                 random_seeds=[1, 2],\n",
    "                 experiment_dir=\"logs_search\",\n",
    "                 automerge_configs=True)\n",
    "queue.run()"
   ]
  },
  {
   "cell_type": "markdown",
   "id": "620b799e-4ecb-473b-b14b-43f9f51f1333",
   "metadata": {},
   "source": [
    "Afterwards you can merge the different logs for the different configurations and seeds, load the aggregated results and update the strategy:"
   ]
  },
  {
   "cell_type": "code",
   "execution_count": 15,
   "id": "75626ced-7201-4916-86c4-3bdd41ff3aca",
   "metadata": {},
   "outputs": [],
   "source": [
    "from mle_logging import load_log\n",
    "\n",
    "# Merge logs of random seeds & configs -> load & get final scores\n",
    "# queue.merge_configs(merge_seeds=True)\n",
    "meta_log = load_log(\"logs_search/meta_log.hdf5\", True)\n",
    "test_scores = [meta_log[r].stats.test_loss.mean[-1] for r in queue.mle_run_ids]\n",
    "\n",
    "# Update the hyperparameter search strategy\n",
    "strategy.tell(configs, test_scores)"
   ]
  },
  {
   "cell_type": "code",
   "execution_count": 16,
   "id": "75c35132",
   "metadata": {},
   "outputs": [
    {
     "data": {
      "text/plain": [
       "DotMap(meta=DotMap(config_dict={'arch': 'mlp', 'batch_size': 3, 'lrate': 0.360379148648584}, config_fname='logs_search/eval_0/eval_0.yaml', eval_id='eval_0', experiment_dir='logs_search/eval_0', log_paths=['logs_search/eval_0/logs/log_seed_1.hdf5', 'logs_search/eval_0/logs/log_seed_2.hdf5'], model_type='no-model-type', seeds=[1, 2]), stats=DotMap(test_loss=DotMap(mean=masked_array(data=[12.016057968139648, 5.969724178314209,\n",
       "                   3.9551507234573364, 2.96964693069458,\n",
       "                   2.4001089334487915, 1.9777717590332031,\n",
       "                   1.7104817032814026, 1.4970807433128357,\n",
       "                   1.321422815322876, 1.2015429735183716],\n",
       "             mask=[False, False, False, False, False, False, False, False,\n",
       "                   False, False],\n",
       "       fill_value=1e+20), std=masked_array(data=[0.30805015563964844, 0.10573387145996094,\n",
       "                   0.07584035396575928, 0.04543948173522949,\n",
       "                   0.06073606014251709, 0.027607202529907227,\n",
       "                   0.04080897569656372, 0.033351242542266846,\n",
       "                   0.03206932544708252, 0.02405107021331787],\n",
       "             mask=[False, False, False, False, False, False, False, False,\n",
       "                   False, False],\n",
       "       fill_value=1e+20), p50=masked_array(data=[12.01605797,  5.96972418,  3.95515072,  2.96964693,\n",
       "                    2.40010893,  1.97777176,  1.7104817 ,  1.49708074,\n",
       "                    1.32142282,  1.20154297],\n",
       "             mask=False,\n",
       "       fill_value=1e+20), p10=masked_array(data=[11.76961784,  5.88513708,  3.89447844,  2.93329535,\n",
       "                    2.35152009,  1.955686  ,  1.67783452,  1.47039975,\n",
       "                    1.29576735,  1.18230212],\n",
       "             mask=False,\n",
       "       fill_value=1e+20), p25=masked_array(data=[11.86203289,  5.91685724,  3.91723055,  2.94692719,\n",
       "                    2.3697409 ,  1.96396816,  1.69007722,  1.48040512,\n",
       "                    1.30538815,  1.18951744],\n",
       "             mask=False,\n",
       "       fill_value=1e+20), p75=masked_array(data=[12.17008305,  6.02259111,  3.9930709 ,  2.99236667,\n",
       "                    2.43047696,  1.99157536,  1.73088619,  1.51375636,\n",
       "                    1.33745748,  1.21356851],\n",
       "             mask=False,\n",
       "       fill_value=1e+20), p90=masked_array(data=[12.26249809,  6.05431128,  4.01582301,  3.00599852,\n",
       "                    2.44869778,  1.99985752,  1.74312888,  1.52376174,\n",
       "                    1.34707828,  1.22078383],\n",
       "             mask=False,\n",
       "       fill_value=1e+20)), train_loss=DotMap(mean=masked_array(data=[11.775721549987793, 5.8878607749938965,\n",
       "                   3.925240635871887, 2.9439303874969482,\n",
       "                   2.3551442623138428, 1.9626203179359436,\n",
       "                   1.682245910167694, 1.4719651937484741,\n",
       "                   1.3084135055541992, 1.1775721311569214],\n",
       "             mask=[False, False, False, False, False, False, False, False,\n",
       "                   False, False],\n",
       "       fill_value=1e+20), std=masked_array(data=[0.25, 0.125, 0.08333337306976318, 0.0625,\n",
       "                   0.04999995231628418, 0.04166668653488159,\n",
       "                   0.03571432828903198, 0.03125, 0.027777791023254395,\n",
       "                   0.02499997615814209],\n",
       "             mask=[False, False, False, False, False, False, False, False,\n",
       "                   False, False],\n",
       "       fill_value=1e+20), p50=masked_array(data=[11.77572155,  5.88786077,  3.92524064,  2.94393039,\n",
       "                    2.35514426,  1.96262032,  1.68224591,  1.47196519,\n",
       "                    1.30841351,  1.17757213],\n",
       "             mask=False,\n",
       "       fill_value=1e+20), p10=masked_array(data=[11.57572155,  5.78786077,  3.85857394,  2.89393039,\n",
       "                    2.3151443 ,  1.92928697,  1.65367445,  1.44696519,\n",
       "                    1.28619127,  1.15757215],\n",
       "             mask=False,\n",
       "       fill_value=1e+20), p25=masked_array(data=[11.65072155,  5.82536077,  3.88357395,  2.91268039,\n",
       "                    2.33014429,  1.94178697,  1.66438875,  1.45634019,\n",
       "                    1.29452461,  1.16507214],\n",
       "             mask=False,\n",
       "       fill_value=1e+20), p75=masked_array(data=[11.90072155,  5.95036077,  3.96690732,  2.97518039,\n",
       "                    2.38014424,  1.98345366,  1.70010307,  1.48759019,\n",
       "                    1.3223024 ,  1.19007212],\n",
       "             mask=False,\n",
       "       fill_value=1e+20), p90=masked_array(data=[11.97572155,  5.98786077,  3.99190733,  2.99393039,\n",
       "                    2.39514422,  1.99595367,  1.71081737,  1.49696519,\n",
       "                    1.33063574,  1.19757211],\n",
       "             mask=False,\n",
       "       fill_value=1e+20))), time=DotMap(num_epochs=array([ 1.,  2.,  3.,  4.,  5.,  6.,  7.,  8.,  9., 10.], dtype=float32), num_updates=array([ 1.,  2.,  3.,  4.,  5.,  6.,  7.,  8.,  9., 10.], dtype=float32), time=array([b'23-03-08/14:08', b'23-03-08/14:08', b'23-03-08/14:08',\n",
       "       b'23-03-08/14:08', b'23-03-08/14:08', b'23-03-08/14:08',\n",
       "       b'23-03-08/14:08', b'23-03-08/14:08', b'23-03-08/14:08',\n",
       "       b'23-03-08/14:08'], dtype='|S5000'), time_elapsed=array([0.00619793, 0.01677299, 0.02146697, 0.02568889, 0.02994299,\n",
       "       0.034374  , 0.03916001, 0.04626989, 0.05129814, 0.05604291],\n",
       "      dtype=float32)))"
      ]
     },
     "execution_count": 16,
     "metadata": {},
     "output_type": "execute_result"
    }
   ],
   "source": [
    "meta_log.eval_0"
   ]
  },
  {
   "cell_type": "markdown",
   "id": "8d72454b-4c30-4fa5-a509-e30cb0c869a5",
   "metadata": {},
   "source": [
    "Give it a try and let me know what you think! If you find a bug or are missing your favourite feature, feel free to contact me [@RobertTLange](https://twitter.com/RobertTLange) or create an issue!"
   ]
  }
 ],
 "metadata": {
  "interpreter": {
   "hash": "ab9901bc2b99b2b589bdcd2dd052d2ba876ed6a9e10adea9eb4bee353ac4d0cb"
  },
  "kernelspec": {
   "display_name": "mle-toolbox",
   "language": "python",
   "name": "mle-toolbox"
  },
  "language_info": {
   "codemirror_mode": {
    "name": "ipython",
    "version": 3
   },
   "file_extension": ".py",
   "mimetype": "text/x-python",
   "name": "python",
   "nbconvert_exporter": "python",
   "pygments_lexer": "ipython3",
   "version": "3.9.7"
  }
 },
 "nbformat": 4,
 "nbformat_minor": 5
}
